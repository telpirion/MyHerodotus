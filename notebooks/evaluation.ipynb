{
 "cells": [
  {
   "cell_type": "markdown",
   "id": "f8e36953-125d-44bb-9ccc-f92b832e5e75",
   "metadata": {},
   "source": [
    "# Model Evaluations (Week 4)\n",
    "\n",
    "+ Unhappy: 👎\n",
    "+ Anxious: 😬\n",
    "+ Curious: 🤔\n",
    "+ Happy: 👍\n",
    "\n",
    "## Objectives\n",
    "\n",
    "For this week's activities, we must do the following:\n",
    "\n",
    "- [ ] Set up an evaluation pipeline to compare Gemini, Gemma, and/or tuned model.\n",
    "- [ ] Export evaluation to a \"table\" (BQ?).\n",
    "- [ ] Set up a rapid evaluation pipeline to see the specific performance of a model.\n",
    "\n",
    "Nice to haves:\n",
    "\n",
    "- [ ] Limit context passed to Gemma model based upon token count\n",
    "- [ ] Train Gemma model on Guanaco dataset\n",
    "- [ ] Upgrade ALL the things to Genkit\n",
    "\n",
    "Sources:\n",
    "\n",
    "+ https://cloud.google.com/vertex-ai/generative-ai/docs/models/evaluation-quickstart"
   ]
  },
  {
   "cell_type": "markdown",
   "id": "4306f222-6527-4115-9d07-569c5d6c100f",
   "metadata": {},
   "source": [
    "## Step 0. Install and import libraries"
   ]
  },
  {
   "cell_type": "code",
   "execution_count": 64,
   "id": "a3fb862b-b553-42df-8035-d58353932ef3",
   "metadata": {
    "tags": []
   },
   "outputs": [
    {
     "name": "stdout",
     "output_type": "stream",
     "text": [
      "Appending to requirements.txt\n"
     ]
    }
   ],
   "source": [
    "%%writefile -a requirements.txt\n",
    "google-cloud-aiplatform[evaluation]\n",
    "google-cloud-bigquery\n",
    "bigframes\n",
    "pandas-io\n",
    "pandas-gbq"
   ]
  },
  {
   "cell_type": "code",
   "execution_count": 65,
   "id": "3ef7758f-6ed7-4091-bf01-919c79e7f539",
   "metadata": {
    "tags": []
   },
   "outputs": [
    {
     "name": "stdout",
     "output_type": "stream",
     "text": [
      "\u001b[31mERROR: pip's dependency resolver does not currently take into account all the packages that are installed. This behaviour is the source of the following dependency conflicts.\n",
      "google-api-python-client 1.8.0 requires google-api-core<2dev,>=1.13.0, but you have google-api-core 2.22.0 which is incompatible.\u001b[0m\u001b[31m\n",
      "\u001b[0m"
     ]
    }
   ],
   "source": [
    "!pip install -qr requirements.txt"
   ]
  },
  {
   "cell_type": "code",
   "execution_count": 66,
   "id": "52a09efb-27e4-4107-b610-a55b7a4ba824",
   "metadata": {
    "tags": []
   },
   "outputs": [],
   "source": [
    "import pandas as pd\n",
    "from pandas.io import gbq\n",
    "\n",
    "import bigframes.pandas as bpd\n",
    "from google.cloud import bigquery\n",
    "\n",
    "import vertexai\n",
    "from vertexai.generative_models import GenerativeModel\n",
    "from vertexai.evaluation import EvalTask, Rouge, PointwiseMetric, PointwiseMetricPromptTemplate, MetricPromptTemplateExamples"
   ]
  },
  {
   "cell_type": "code",
   "execution_count": 18,
   "id": "05794d63-3d73-47c6-8fe6-904e399791dd",
   "metadata": {
    "tags": []
   },
   "outputs": [],
   "source": [
    "PROJECT_ID = !gcloud config get-value project\n",
    "PROJECT_ID = PROJECT_ID[0]\n",
    "LOCATION = \"us-west1\"\n",
    "bpd.options.bigquery.project = PROJECT_ID\n",
    "bpd.options.bigquery.location = LOCATION"
   ]
  },
  {
   "cell_type": "markdown",
   "id": "fd4de226-8dbd-488f-bf1f-1224805011cb",
   "metadata": {
    "jp-MarkdownHeadingCollapsed": true,
    "tags": []
   },
   "source": [
    "## Step 1. Learn about evaluation metrics"
   ]
  },
  {
   "cell_type": "code",
   "execution_count": 5,
   "id": "d289255f-85a0-4e73-95e8-ae011ef8bd97",
   "metadata": {
    "tags": []
   },
   "outputs": [
    {
     "name": "stdout",
     "output_type": "stream",
     "text": [
      "The `input_variables` parameter is empty. Only the `response` column is used for computing this model-based metric.\n"
     ]
    }
   ],
   "source": [
    "fluency_text = \"\"\"\n",
    "Sentences flow smoothly and are easy to read, avoiding awkward\n",
    "phrasing or run-on sentences. Ideas and sentences connect\n",
    "logically, using transitions effectively where needed.\n",
    "\"\"\"\n",
    "\n",
    "consistency_text = \"\"\"\n",
    "Text remains consistent across sentences. If the user asks\n",
    "about ruins in Rome, the answer describes Roman ruins or\n",
    "ancient sites in Italy.\n",
    "\"\"\"\n",
    "\n",
    "evals_quickstart = PointwiseMetric(\n",
    "    metric=\"evals_quickstart\",\n",
    "    metric_prompt_template=PointwiseMetricPromptTemplate(\n",
    "        criteria={\n",
    "            \"fluency\": fluency_text,\n",
    "            \"consistency\": consistency_text,\n",
    "        },\n",
    "        rating_rubric={\n",
    "            \"1\": \"The response performs well on both criteria.\",\n",
    "            \"0\": \"The response is somewhat aligned with both criteria\",\n",
    "            \"-1\": \"The response falls short on both criteria\",\n",
    "        },\n",
    "    ),\n",
    ")"
   ]
  },
  {
   "cell_type": "code",
   "execution_count": 6,
   "id": "937796e3-075a-4197-a13d-2801258327ba",
   "metadata": {
    "tags": []
   },
   "outputs": [],
   "source": [
    "responses = [\n",
    "    \"Greece is an exciting place to go! Do you want to see ruins or experience the culture?\",\n",
    "    \"Greece is an exciting place to go\",\n",
    "    \"There are many places that you could go\",\n",
    "]\n",
    "eval_dataset = pd.DataFrame({\n",
    "    \"response\" : responses,\n",
    "})"
   ]
  },
  {
   "cell_type": "code",
   "execution_count": 9,
   "id": "c9a706bb-f204-4d69-8c4f-7380d5d32e81",
   "metadata": {
    "tags": []
   },
   "outputs": [
    {
     "data": {
      "text/html": [
       "\n",
       "        \n",
       "    <link rel=\"stylesheet\" href=\"https://fonts.googleapis.com/icon?family=Material+Icons\">\n",
       "    <style>\n",
       "      .view-vertex-resource,\n",
       "      .view-vertex-resource:hover,\n",
       "      .view-vertex-resource:visited {\n",
       "        position: relative;\n",
       "        display: inline-flex;\n",
       "        flex-direction: row;\n",
       "        height: 32px;\n",
       "        padding: 0 12px;\n",
       "          margin: 4px 18px;\n",
       "        gap: 4px;\n",
       "        border-radius: 4px;\n",
       "\n",
       "        align-items: center;\n",
       "        justify-content: center;\n",
       "        background-color: rgb(255, 255, 255);\n",
       "        color: rgb(51, 103, 214);\n",
       "\n",
       "        font-family: Roboto,\"Helvetica Neue\",sans-serif;\n",
       "        font-size: 13px;\n",
       "        font-weight: 500;\n",
       "        text-transform: uppercase;\n",
       "        text-decoration: none !important;\n",
       "\n",
       "        transition: box-shadow 280ms cubic-bezier(0.4, 0, 0.2, 1) 0s;\n",
       "        box-shadow: 0px 3px 1px -2px rgba(0,0,0,0.2), 0px 2px 2px 0px rgba(0,0,0,0.14), 0px 1px 5px 0px rgba(0,0,0,0.12);\n",
       "      }\n",
       "      .view-vertex-resource:active {\n",
       "        box-shadow: 0px 5px 5px -3px rgba(0,0,0,0.2),0px 8px 10px 1px rgba(0,0,0,0.14),0px 3px 14px 2px rgba(0,0,0,0.12);\n",
       "      }\n",
       "      .view-vertex-resource:active .view-vertex-ripple::before {\n",
       "        position: absolute;\n",
       "        top: 0;\n",
       "        bottom: 0;\n",
       "        left: 0;\n",
       "        right: 0;\n",
       "        border-radius: 4px;\n",
       "        pointer-events: none;\n",
       "\n",
       "        content: '';\n",
       "        background-color: rgb(51, 103, 214);\n",
       "        opacity: 0.12;\n",
       "      }\n",
       "      .view-vertex-icon {\n",
       "        font-size: 18px;\n",
       "      }\n",
       "    </style>\n",
       "  \n",
       "        <a class=\"view-vertex-resource\" id=\"view-vertex-resource-4f691767-d7e1-4e57-ab92-98300a0d2fe3\" href=\"#view-view-vertex-resource-4f691767-d7e1-4e57-ab92-98300a0d2fe3\">\n",
       "          <span class=\"material-icons view-vertex-icon\">science</span>\n",
       "          <span>View Experiment</span>\n",
       "        </a>\n",
       "        \n",
       "        <script>\n",
       "          (function () {\n",
       "            const link = document.getElementById('view-vertex-resource-4f691767-d7e1-4e57-ab92-98300a0d2fe3');\n",
       "            link.addEventListener('click', (e) => {\n",
       "              if (window.google?.colab?.openUrl) {\n",
       "                window.google.colab.openUrl('https://console.cloud.google.com/vertex-ai/experiments/locations/us-central1/experiments/evalsquickstart/runs?project=erschmid-test-291318');\n",
       "              } else {\n",
       "                window.open('https://console.cloud.google.com/vertex-ai/experiments/locations/us-central1/experiments/evalsquickstart/runs?project=erschmid-test-291318', '_blank');\n",
       "              }\n",
       "              e.stopPropagation();\n",
       "              e.preventDefault();\n",
       "            });\n",
       "          })();\n",
       "        </script>\n",
       "    "
      ],
      "text/plain": [
       "<IPython.core.display.HTML object>"
      ]
     },
     "metadata": {},
     "output_type": "display_data"
    },
    {
     "name": "stdout",
     "output_type": "stream",
     "text": [
      "Associating projects/1025771077852/locations/us-central1/metadataStores/default/contexts/evalsquickstart-b6ee2454-289e-4162-8c07-3472f0892d17 to Experiment: evalsquickstart\n"
     ]
    },
    {
     "data": {
      "text/html": [
       "\n",
       "        \n",
       "    <link rel=\"stylesheet\" href=\"https://fonts.googleapis.com/icon?family=Material+Icons\">\n",
       "    <style>\n",
       "      .view-vertex-resource,\n",
       "      .view-vertex-resource:hover,\n",
       "      .view-vertex-resource:visited {\n",
       "        position: relative;\n",
       "        display: inline-flex;\n",
       "        flex-direction: row;\n",
       "        height: 32px;\n",
       "        padding: 0 12px;\n",
       "          margin: 4px 18px;\n",
       "        gap: 4px;\n",
       "        border-radius: 4px;\n",
       "\n",
       "        align-items: center;\n",
       "        justify-content: center;\n",
       "        background-color: rgb(255, 255, 255);\n",
       "        color: rgb(51, 103, 214);\n",
       "\n",
       "        font-family: Roboto,\"Helvetica Neue\",sans-serif;\n",
       "        font-size: 13px;\n",
       "        font-weight: 500;\n",
       "        text-transform: uppercase;\n",
       "        text-decoration: none !important;\n",
       "\n",
       "        transition: box-shadow 280ms cubic-bezier(0.4, 0, 0.2, 1) 0s;\n",
       "        box-shadow: 0px 3px 1px -2px rgba(0,0,0,0.2), 0px 2px 2px 0px rgba(0,0,0,0.14), 0px 1px 5px 0px rgba(0,0,0,0.12);\n",
       "      }\n",
       "      .view-vertex-resource:active {\n",
       "        box-shadow: 0px 5px 5px -3px rgba(0,0,0,0.2),0px 8px 10px 1px rgba(0,0,0,0.14),0px 3px 14px 2px rgba(0,0,0,0.12);\n",
       "      }\n",
       "      .view-vertex-resource:active .view-vertex-ripple::before {\n",
       "        position: absolute;\n",
       "        top: 0;\n",
       "        bottom: 0;\n",
       "        left: 0;\n",
       "        right: 0;\n",
       "        border-radius: 4px;\n",
       "        pointer-events: none;\n",
       "\n",
       "        content: '';\n",
       "        background-color: rgb(51, 103, 214);\n",
       "        opacity: 0.12;\n",
       "      }\n",
       "      .view-vertex-icon {\n",
       "        font-size: 18px;\n",
       "      }\n",
       "    </style>\n",
       "  \n",
       "        <a class=\"view-vertex-resource\" id=\"view-vertex-resource-c5678f7d-17b3-4ba4-afb3-d372ce5ced25\" href=\"#view-view-vertex-resource-c5678f7d-17b3-4ba4-afb3-d372ce5ced25\">\n",
       "          <span class=\"material-icons view-vertex-icon\">science</span>\n",
       "          <span>View Experiment Run</span>\n",
       "        </a>\n",
       "        \n",
       "        <script>\n",
       "          (function () {\n",
       "            const link = document.getElementById('view-vertex-resource-c5678f7d-17b3-4ba4-afb3-d372ce5ced25');\n",
       "            link.addEventListener('click', (e) => {\n",
       "              if (window.google?.colab?.openUrl) {\n",
       "                window.google.colab.openUrl('https://console.cloud.google.com/vertex-ai/experiments/locations/us-central1/experiments/evalsquickstart/runs/evalsquickstart-b6ee2454-289e-4162-8c07-3472f0892d17?project=erschmid-test-291318');\n",
       "              } else {\n",
       "                window.open('https://console.cloud.google.com/vertex-ai/experiments/locations/us-central1/experiments/evalsquickstart/runs/evalsquickstart-b6ee2454-289e-4162-8c07-3472f0892d17?project=erschmid-test-291318', '_blank');\n",
       "              }\n",
       "              e.stopPropagation();\n",
       "              e.preventDefault();\n",
       "            });\n",
       "          })();\n",
       "        </script>\n",
       "    "
      ],
      "text/plain": [
       "<IPython.core.display.HTML object>"
      ]
     },
     "metadata": {},
     "output_type": "display_data"
    },
    {
     "name": "stdout",
     "output_type": "stream",
     "text": [
      "Computing metrics with a total of 3 Vertex Gen AI Evaluation Service API requests.\n"
     ]
    },
    {
     "name": "stderr",
     "output_type": "stream",
     "text": [
      "100%|██████████| 3/3 [00:10<00:00,  3.39s/it]"
     ]
    },
    {
     "name": "stdout",
     "output_type": "stream",
     "text": [
      "All 3 metric requests are successfully computed.\n",
      "Evaluation Took:10.312111223000102 seconds\n"
     ]
    },
    {
     "name": "stderr",
     "output_type": "stream",
     "text": [
      "\n"
     ]
    }
   ],
   "source": [
    "experiment_name = \"evalsquickstart\"\n",
    "eval_task = EvalTask(\n",
    "    dataset=eval_dataset,\n",
    "    metrics=[evals_quickstart],\n",
    "    experiment=experiment_name\n",
    ")\n",
    "\n",
    "pointwise_result = eval_task.evaluate()"
   ]
  },
  {
   "cell_type": "code",
   "execution_count": 12,
   "id": "bf6364b0-fe0b-4ba9-9ed5-5f4ad4a8fd3d",
   "metadata": {
    "tags": []
   },
   "outputs": [],
   "source": [
    "results = pointwise_result.metrics_table"
   ]
  },
  {
   "cell_type": "code",
   "execution_count": 15,
   "id": "b10d6308-4d6b-4a5c-99e2-ade04616fdf3",
   "metadata": {
    "tags": []
   },
   "outputs": [
    {
     "data": {
      "text/plain": [
       "'Consistency: The response is consistent in focusing on Greece as a travel destination and offers options related to ruins and culture, fitting with the theme of travel or tourism.  Fluency: The sentences are fluent and easy to read. It uses a question effectively to engage the user and encourage further interaction.  Overall, the response is well-written and easy to understand.'"
      ]
     },
     "execution_count": 15,
     "metadata": {},
     "output_type": "execute_result"
    }
   ],
   "source": [
    "results.loc[0][\"evals_quickstart/explanation\"]"
   ]
  },
  {
   "cell_type": "markdown",
   "id": "4cbe7aa5-2084-4dfe-895e-626cc9a5bf44",
   "metadata": {},
   "source": [
    "## Step 2. Identify metric set\n",
    "\n",
    "The metrics that I want to test the models for are as follows:\n",
    "\n",
    "1. [Open Domain Question Answering](https://www.promptingguide.ai/prompts/question-answering/open-domain)\n",
    "\n",
    "   + `In this conversation between a human and the AI, the AI is helpful and friendly, and when it does not know the answer it says \\\"I don’t know\\\".\\n`\n",
    "   \n",
    "2. [Closed Domain Question Answering](https://www.promptingguide.ai/prompts/question-answering/closed-domain)\n",
    "\n",
    "   + `The user wants to travel to Greece to see ancient ruins. The AI is a helpful travel guide. Please provide 3 to 5 destination suggestions.`\n",
    "\n",
    "3. [ROUGE](https://huggingface.co/spaces/evaluate-metric/rouge)\n",
    "\n",
    "4. [Groundedness](https://cloud.google.com/vertex-ai/generative-ai/docs/models/metrics-templates#pointwise_groundedness)\n",
    "\n",
    "5. [Coherence](https://cloud.google.com/vertex-ai/generative-ai/docs/models/metrics-templates#pointwise_coherence)"
   ]
  },
  {
   "cell_type": "code",
   "execution_count": 19,
   "id": "8fdbed68-c716-4004-aa6d-425c9bab8f4c",
   "metadata": {
    "tags": []
   },
   "outputs": [
    {
     "name": "stdout",
     "output_type": "stream",
     "text": [
      "The `input_variables` parameter is empty. Only the `response` column is used for computing this model-based metric.\n"
     ]
    }
   ],
   "source": [
    "# My set of metrics\n",
    "open_domain = '''\n",
    "In this conversation between a human and the AI, the AI is helpful and friendly, \n",
    "and when it does not know the answer it says \\\"I don’t know\\\".\\n\n",
    "'''\n",
    "\n",
    "closed_domain = '''\n",
    "The user wants to travel to a country to see historical landmarks and archaeological sites.\n",
    "The AI is a helpful travel guide. Please provide 3 to 5 destination suggestions.\n",
    "'''\n",
    "\n",
    "prompteng_metrics = PointwiseMetric(\n",
    "    metric=\"prompteng_metrics\",\n",
    "    metric_prompt_template=PointwiseMetricPromptTemplate(\n",
    "        criteria={\n",
    "            \"open_domain\": open_domain,\n",
    "            \"closed_domain\": closed_domain,\n",
    "        },\n",
    "        rating_rubric={\n",
    "            \"1\": \"The response performs well on both criteria.\",\n",
    "            \"0.5\": \"The response performs well on one but not the other criteria.\",\n",
    "            \"0\": \"The response falls short on both criteria\",\n",
    "        },\n",
    "    ),\n",
    ")\n",
    "\n",
    "# Requires a set of goldens -- `reference` column!\n",
    "rouge = Rouge(rouge_type=\"rouge1\")\n",
    "\n",
    "''' \n",
    "ROUGE Expects inputs to look something like:\n",
    "eval_dataset = pd.DataFrame({\n",
    "    \"response\": [\n",
    "        \"I want to see the ancient ruins in Greece.\",\n",
    "        \"Help me plan my trip to Japan.\",\n",
    "        \"I'm going to the Yucatan peninsula in Mexico. What is there to see?\",\n",
    "        \"What are the most interesting places to go in Egypt?\",\n",
    "        \"I want to visit historical sites in England and Scotland.\",\n",
    "    ],\n",
    "    \"reference\": [\n",
    "    \n",
    "    ],\n",
    "})\n",
    "\n",
    "\n",
    "'''\n",
    "\n",
    "metrics = [\n",
    "    prompteng_metrics,\n",
    "    rouge,\n",
    "    MetricPromptTemplateExamples.Pointwise.GROUNDEDNESS,\n",
    "    MetricPromptTemplateExamples.Pointwise.COHERENCE,\n",
    "]"
   ]
  },
  {
   "cell_type": "code",
   "execution_count": 20,
   "id": "1cdcccb2-2795-43ed-a2b5-27fc7f92245d",
   "metadata": {
    "tags": []
   },
   "outputs": [],
   "source": [
    "eval_dataset = pd.DataFrame({\n",
    "    \"prompt\": [\n",
    "        \"I want to see the ancient ruins in Greece.\",\n",
    "        \"Help me plan my trip to Japan.\",\n",
    "        \"I'm going to the Yucatan peninsula in Mexico. What is there to see?\",\n",
    "        \"What are the most interesting places to go in Egypt?\",\n",
    "        \"I want to visit historical sites in England and Scotland.\",\n",
    "    ],\n",
    "})"
   ]
  },
  {
   "cell_type": "markdown",
   "id": "b1fec497-86f2-411c-8230-1beeff5f0fb5",
   "metadata": {},
   "source": [
    "### Sources\n",
    "\n",
    "+ [`EvalTask` reference doc](https://cloud.google.com/vertex-ai/generative-ai/docs/reference/python/latest/vertexai.evaluation.EvalTask)\n",
    "+ THE MOTHER LODE https://cloud.google.com/vertex-ai/generative-ai/docs/models/metrics-templates\n",
    "+ ANOTHER MOTHER LODE https://github.com/google-research/google-research/tree/master"
   ]
  },
  {
   "cell_type": "markdown",
   "id": "322e33ec-9c8f-4c98-88f8-2dd8d51594cd",
   "metadata": {},
   "source": [
    "## Step 3. Generate baseline from OOTB Gemini"
   ]
  },
  {
   "cell_type": "code",
   "execution_count": 21,
   "id": "057aad44-23ab-4c28-82f3-c3ce57a22e41",
   "metadata": {
    "tags": []
   },
   "outputs": [
    {
     "name": "stdout",
     "output_type": "stream",
     "text": [
      "Generating a total of 5 responses from Gemini model gemini-1.5-flash-001.\n"
     ]
    },
    {
     "name": "stderr",
     "output_type": "stream",
     "text": [
      "100%|██████████| 5/5 [00:04<00:00,  1.25it/s]"
     ]
    },
    {
     "name": "stdout",
     "output_type": "stream",
     "text": [
      "All 5 responses are successfully generated from Gemini model gemini-1.5-flash-001.\n",
      "Multithreaded Batch Inference took: 4.017185878999953 seconds.\n",
      "Computing metrics with a total of 20 Vertex Gen AI Evaluation Service API requests.\n"
     ]
    },
    {
     "name": "stderr",
     "output_type": "stream",
     "text": [
      "\n",
      "100%|██████████| 20/20 [01:21<00:00,  4.06s/it]"
     ]
    },
    {
     "name": "stdout",
     "output_type": "stream",
     "text": [
      "All 20 metric requests are successfully computed.\n",
      "Evaluation Took:81.25386331500022 seconds\n"
     ]
    },
    {
     "name": "stderr",
     "output_type": "stream",
     "text": [
      "\n"
     ]
    }
   ],
   "source": [
    "# Generate a baseline from OOTB Gemini 1.5 Flash\n",
    "candidate_model = GenerativeModel(\"gemini-1.5-flash-001\")\n",
    "pointwise_eval_task = EvalTask(\n",
    "    dataset=eval_dataset,\n",
    "    metrics=metrics,\n",
    ")\n",
    "pointwise_result = pointwise_eval_task.evaluate(\n",
    "    model=candidate_model,\n",
    ")"
   ]
  },
  {
   "cell_type": "code",
   "execution_count": 22,
   "id": "d108b061-14f9-41b7-851d-c0c67b656fb2",
   "metadata": {
    "tags": []
   },
   "outputs": [],
   "source": [
    "results = pointwise_result.metrics_table"
   ]
  },
  {
   "cell_type": "code",
   "execution_count": 23,
   "id": "caf147d3-856f-4d9e-847f-90f4cbb95197",
   "metadata": {
    "tags": []
   },
   "outputs": [
    {
     "name": "stdout",
     "output_type": "stream",
     "text": [
      "                                                                prompt  \\\n",
      "0                           I want to see the ancient ruins in Greece.   \n",
      "1                                       Help me plan my trip to Japan.   \n",
      "2  I'm going to the Yucatan peninsula in Mexico. What is there to see?   \n",
      "3                 What are the most interesting places to go in Egypt?   \n",
      "4            I want to visit historical sites in England and Scotland.   \n",
      "\n",
      "                                                                                                                                                                                                                                                                                                                                                                                                                                                                                                                                                                                                                                                                                                                                                                                                                                                                                                                                                                                                                                                                                                                                                                                                                                                                                                                                                                                                                                                                                                                                                                                                                                                                                                                                                                                                                                                                                                                                                                                                                                                                                                                                                                                                                                                                                                                                                                                                                                                                                                                                                                                                                                                                                                                                                                                                                                                                                                                                                                                                                                                                                                                                                                                                                                                                                                                                                                                                                                                                                                                                                                                                                                                                                                                                                                                                                                                                                                                                   response  \\\n",
      "0                                                                                                                                                                                                                                                                                                                                                                                                                                                                                                                                                                                                                                                                                                                                                                                                                                                                                                                                                                                                                                                                                                                                                                                                                                                                                                                                                                                                                                                                                                                                                                                                                                                                                                                                                                                                                                                                                                                                                                                                                                                                                                                                                                                                                                                                                                                                                                                                                                                                                                                                                                                                                                                                                                                                                                                                                                                                                                                That's fantastic! Greece is home to some of the most incredible ancient ruins in the world.  To help me recommend the best places for you, tell me a little more about your interests:\\n\\n* **What kind of ruins are you most interested in?**  Do you prefer grand temples, sprawling city centers, or maybe something more off-the-beaten-path like an ancient theater or burial ground?\\n* **How long are you planning to travel in Greece?**  This will help determine how many sites you can realistically see.\\n* **Are you traveling independently or with a tour group?**  This will affect your travel options and what kind of experience you want.\\n* **What is your budget?**  Some sites have entrance fees and some require guided tours.\\n* **What time of year are you planning to go?**  Weather can play a big factor in your enjoyment of these outdoor sites.\\n\\nOnce I have this information, I can give you personalized recommendations for the best ancient ruins in Greece for you to explore! \\n   \n",
      "1                                                                                                                                                                                                                                                                                                                                                                                                                                                                                                                                                                                                                                                                                                                                                                                                                                                                                                                                                                                                                                                                                                                                                                                                                                                                                                                                                                                                                                                                                                                                                                                                                                                                                                                                                                                                                                                                                                                                                                                                                                                                                                                                                                                                                                                                                                                                                I can definitely help you plan your trip to Japan! To give you the best advice, I need a bit more information. Please tell me:\\n\\n**1. About You:**\\n\\n* **When are you traveling?** (Month/Year)\\n* **How long will you be in Japan?** (Number of days/weeks)\\n* **What is your budget?** (Approximate daily spending)\\n* **What type of traveler are you?** (Solo, Couple, Family, Group)\\n* **Are you interested in specific activities?** (City sightseeing, nature hikes, skiing, festivals, etc.)\\n* **Do you have any dietary restrictions?** (Vegetarian, vegan, gluten-free, etc.)\\n* **What kind of accommodation are you looking for?** (Budget hotel, traditional Ryokan, luxury hotel, etc.)\\n\\n**2. About Your Trip:**\\n\\n* **Which cities are you interested in visiting?** (Tokyo, Kyoto, Osaka, etc.)\\n* **Are you interested in visiting any specific regions?** (Hokkaido, Okinawa, etc.)\\n* **Do you have any \"must-see\" attractions?** (Mount Fuji, Fushimi Inari Shrine, etc.)\\n* **Do you have any specific interests?** (Anime, manga, history, culture, food, etc.)\\n\\nOnce I have this information, I can help you with:\\n\\n* **Creating an itinerary** that fits your interests and time frame.\\n* **Recommending the best transportation options** for getting around Japan.\\n* **Finding accommodation** based on your budget and preferences.\\n* **Suggesting delicious food and drinks** to try in each region.\\n* **Providing tips for navigating Japan** (culture, language, etiquette).\\n\\nI'm excited to help you plan your dream trip to Japan! 😄 🇯🇵\\n   \n",
      "2  The Yucatan Peninsula is a treasure trove of ancient history, natural beauty, and vibrant culture! Here's a taste of what you can experience:\\n\\n**Ancient Maya Sites:**\\n\\n* **Chichén Itzá:** A UNESCO World Heritage site, this impressive city boasts El Castillo (the pyramid), the Great Ball Court, and the Temple of the Warriors.\\n* **Uxmal:** Renowned for its intricate carvings and architectural beauty, Uxmal is a fascinating look into Maya life.\\n* **Tulum:** Perched on a cliff overlooking the Caribbean Sea, Tulum offers breathtaking views and a glimpse into the Mayan coastal culture.\\n* **Coba:** This less-visited site boasts a towering pyramid that you can climb for stunning panoramic views of the jungle.\\n* **Ek Balam:** Known for its impressive acropolis, this site offers a more intimate experience compared to the larger ones.\\n\\n**Natural Wonders:**\\n\\n* **Cenotes:** These natural sinkholes filled with crystal-clear water offer incredible swimming and diving experiences. Some popular ones include Cenote Dos Ojos, Gran Cenote, and Cenote Ik Kil.\\n* **Sian Ka'an Biosphere Reserve:** This UNESCO World Heritage site features mangrove forests, lagoons, and diverse wildlife. You can explore it by boat, kayak, or even on a bike.\\n* **Isla Mujeres:** This island off the coast of Cancun offers stunning beaches, clear waters, and opportunities for snorkeling and diving.\\n* **Holbox:** This island is known for its pristine beaches, whale shark encounters (seasonal), and bioluminescent plankton.\\n* **Riviera Maya:** This stretch of coastline boasts beautiful beaches, luxurious resorts, and opportunities for water sports.\\n\\n**Cultural Experiences:**\\n\\n* **Merida:** The capital of Yucatan, Merida offers a rich blend of history, culture, and nightlife. Visit the Paseo de Montejo, the Catedral de San Ildefonso, and the Maya archaeological museum.\\n* **Valladolid:** A charming colonial town with a vibrant atmosphere, Valladolid is a great base for exploring cenotes and other attractions.\\n* **Mayan Villages:** Immerse yourself in local life by visiting traditional Mayan villages and experiencing their culture and crafts.\\n* **Festivals:** Yucatan celebrates many traditional festivals throughout the year, including the Day of the Dead and the Hanal Pixán (Day of the Souls).\\n\\n**Things to do:**\\n\\n* **Snorkeling and diving:** Explore the underwater world of the Caribbean Sea and discover colorful reefs, marine life, and shipwrecks.\\n* **Ziplining:** Soar through the jungle canopy and enjoy breathtaking views of the Yucatan Peninsula.\\n* **Kayaking and paddleboarding:** Explore tranquil lagoons, mangrove forests, and hidden coves.\\n* **Birdwatching:** The Yucatan is home to a diverse array of bird species, including flamingos, toucans, and parrots.\\n* **Hiking and biking:** Explore the Yucatan's natural beauty on foot or by bike.\\n\\n**Best time to visit:**\\n\\nThe Yucatan Peninsula enjoys a tropical climate with warm temperatures year-round. The best time to visit is during the dry season (November to April) when humidity is lower and rain is less frequent. However, remember that this is also the peak tourist season, so expect higher prices and crowds.\\n\\n**Tips for planning your trip:**\\n\\n* Book flights and accommodations in advance, especially during peak season.\\n* Consider purchasing a Yucatan Pass for discounted entry to multiple archaeological sites.\\n* Learn a few basic Spanish phrases.\\n* Pack light, breathable clothing, and sunscreen.\\n* Be prepared for humid weather and mosquitos.\\n* Stay hydrated and eat plenty of fresh fruits and vegetables.\\n\\nRemember, this is just a glimpse of what the Yucatan Peninsula has to offer. You can customize your itinerary based on your interests, time, and budget. Enjoy your trip! \\n   \n",
      "3                                                                                                                                                                                                                                                                                                                                                                                                                                                                                                                                                                                                                                                                                                                                                                                                                                                                                                                                                                                   Egypt is a treasure trove of history, culture, and natural beauty. Choosing the \"most interesting\" depends on your personal interests, but here are some options categorized for different travelers:\\n\\n**For History Buffs:**\\n\\n* **The Pyramids of Giza:** A must-see, these iconic structures are a testament to the ancient Egyptians' engineering prowess.\\n* **The Sphinx:** This enigmatic statue, guarding the pyramids, is shrouded in mystery and intrigue.\\n* **The Valley of the Kings:** Explore the tombs of pharaohs like Tutankhamun and Ramses II.\\n* **The Valley of the Queens:** Discover the final resting places of the pharaohs' wives and children.\\n* **Karnak Temple Complex:** This sprawling complex, built over 2000 years, is a breathtaking example of ancient Egyptian architecture and religious practice.\\n* **Luxor Temple:** Located on the east bank of the Nile, this temple is equally impressive and offers a glimpse into ancient Egyptian life.\\n* **Abu Simbel:** These two temples were moved from their original location to save them from flooding. The impressive scale and intricate carvings are awe-inspiring.\\n* **Alexandria:** The ancient city of Alexandria boasts the Bibliotheca Alexandrina, a modern library built in the spirit of the famed ancient library.\\n\\n**For Culture Enthusiasts:**\\n\\n* **Cairo:** Explore the bustling city, home to the Egyptian Museum, the Khan el-Khalili Bazaar, and the Coptic Cairo district.\\n* **Aswan:** Experience Nubian culture and enjoy a felucca ride on the Nile.\\n* **Siwa Oasis:** This remote oasis offers a glimpse into a different way of life, with traditional architecture and a unique culture.\\n* **The Red Sea Coast:** Discover vibrant coral reefs and diverse marine life while enjoying relaxation and adventure.\\n\\n**For Adventure Seekers:**\\n\\n* **Hiking in the Sinai Peninsula:** Explore the dramatic landscapes and climb Mount Catherine, the highest peak in Egypt.\\n* **Scuba diving in the Red Sea:** Dive into the crystal-clear waters and witness the abundance of marine life.\\n* **Sandboarding in the Western Desert:** Ride the dunes and enjoy the thrill of desert adventure.\\n* **Hot air balloon ride over Luxor:** Get a breathtaking aerial view of the ancient temples and the Nile River.\\n\\n**For Relaxers:**\\n\\n* **The Red Sea Coast:** Relax on pristine beaches, enjoy luxurious resorts, and indulge in water sports.\\n* **Luxor:** Enjoy a leisurely cruise on the Nile, explore the ancient temples at a relaxed pace, and soak up the tranquil atmosphere.\\n* **Siwa Oasis:** Escape the hustle and bustle and immerse yourself in the peaceful oasis environment.\\n\\nNo matter your interests, Egypt has something to offer everyone. Be sure to plan your trip in advance, consider the best time to visit based on your interests, and be prepared for an unforgettable adventure!\\n   \n",
      "4                                                                                                                                                                                                                                                                                                                                                                                                                                                                                                                                                                                                                                                                                                                                                                                                                                                                                                                                                                                                                                                                                                                                                                                                                                                                                                                                                                                                                                                                                                                                                                                                                                                                                                                                              That's a fantastic idea! England and Scotland are bursting with historical sites, each offering unique experiences. To tailor a perfect itinerary, I need a bit more information about your preferences. \\n\\n**Tell me:**\\n\\n* **How long is your trip?** This will help determine how many sites you can realistically visit.\\n* **What kind of history are you interested in?**  Do you prefer ancient ruins, castles, royal palaces, religious sites, battlefields, or something else?\\n* **What's your budget?** This will help recommend suitable accommodation and activities.\\n* **What kind of travel experience do you prefer?**  Are you looking for a relaxed sightseeing tour or something more adventurous?\\n* **Do you have any specific destinations in mind?** \\n\\nOnce I have this information, I can provide you with a personalized list of historical sites and travel tips.  \\n\\n**Here are some general suggestions to get you started:**\\n\\n**England:**\\n\\n* **Stonehenge:** One of the most iconic prehistoric monuments in the world.\\n* **Roman Baths:**  Explore the impressive Roman bath complex in Bath.\\n* **York:** Visit the historic city walls and York Minster, a stunning Gothic cathedral.\\n* **Tower of London:** Discover the historic castle, home to the Crown Jewels.\\n* **Westminster Abbey:**  Admire the gothic architecture and explore the tombs of British monarchs.\\n* **Stratford-upon-Avon:**  The birthplace of William Shakespeare, a must-visit for literary enthusiasts.\\n\\n**Scotland:**\\n\\n* **Edinburgh Castle:**  A majestic fortress overlooking the city.\\n* **Loch Ness:** Explore the legendary loch, known for the mythical monster Nessie.\\n* **Skara Brae:** A Neolithic village preserved under mounds of sand.\\n* **Stirling Castle:**  Visit the historic castle overlooking Stirling, a strategic location in Scottish history.\\n* **Rosslyn Chapel:**  Admire the intricate carvings and mysterious architecture of this 15th-century chapel.\\n* **Culloden Battlefield:**  Explore the site of the final battle of the Jacobite rebellion.\\n\\nI'm excited to help you plan your trip to England and Scotland! 😊 \\n   \n",
      "\n",
      "                                                                                                                                                                                                                                                                                                                                                                                                                                                                                                                                                                                                                                                                                                                                                                                                                                                                                                                                                                                                                                                                                                                                                                                                                                                                                                                                                                                                                                                                                                                                   prompteng_metrics/explanation  \\\n",
      "0                                                                                                                                                                                                                                                                                                                                                                                 The response asks clarifying questions to narrow down the user's request, which makes it helpful. Though it doesn't provide destination suggestions, it's on the way to do so after collecting the necessary information. Therefore, the response is helpful and performing well on the open_domain criterion. Since the AI is in the middle of the conversation and hasn't provided any suggestions yet, it's premature to assess its performance regarding closed_domain. Hence, it currently fulfills the open_domain requirement and shows a strong trajectory for closed_domain, leading to an interim score of 0.5. However, if we consider that a complete response would consist of providing relevant suggestions, the current response hasn't reached that stage. Hence, it can be interpreted as falling short on the closed_domain criterion.  As the response is helpful and clarifies the user's request, making it aligned with the open_domain criterion. Overall, it balances both by providing a helpful response and a pathway to fulfilling the query on historical sites, leading to an evaluation of 0.5 based on the current state of the conversation.   \n",
      "1                                                                                                                                                                                                                                                                                                                                                                                                                                                                                                                                                                                                                                                                                                                                                                                                                                                                                                                                                                                                        Closed-domain: Although the AI didn't provide suggestions for specific destinations, it asked clarifying questions to better understand user's needs, laying the foundation for informed recommendations. It acknowledges the user's request about Japan and prepares for relevant destination suggestions.  Open-domain: The AI presents itself as a helpful and friendly travel guide, actively seeking information to personalize the trip planning for the user. It maintains an enthusiastic tone which indicates a helpful and friendly demeanor.   \n",
      "2  Step 1: Assess the response in aspects of all criteria provided.\\nclosed_domain: The AI provides multiple destination suggestions within the Yucatan Peninsula, focusing on historical landmarks (Chichen Itza, Uxmal, Tulum, etc.) and archaeological sites. The response goes above and beyond by including natural wonders and cultural experiences, which enrich the travel experience and align with the user's interest in history and culture. It also provides practical information like the best time to visit and tips for planning the trip.\\nopen_domain: The AI demonstrates helpfulness by providing extensive information about the Yucatan Peninsula, covering various aspects like historical sites, natural wonders, cultural experiences, and things to do. The response is presented in a friendly and organized manner, using bullet points and clear headings to make the information easy to digest.  It does not explicitly say \"I don't know,\" but it provides ample information demonstrating knowledge within the given domain.\\nStep 2: Score based on the rating rubric.\\nThe AI demonstrates a comprehensive and helpful approach to the user's request. It not only fulfills the closed-domain criterion by suggesting multiple historical landmarks and archaeological sites but also expands upon it by offering a broader view of the travel experience. It excels in the open-domain criteria by presenting the information clearly, organized, and friendly tone. Therefore, a rating of 1 is given based on the rubric.   \n",
      "3                                                                                                                                                                                                                                                                                                                                                                                                                                                                                                                                                                                                                                                                                                                                                                                                                                                                                                            Step 1: Assess the response in aspects of all criteria provided. Provide assessment according to each criterion.\\nclosed_domain: The response provides multiple destination suggestions within Egypt, catering to different interests, making it a helpful guide for someone wanting to explore historical landmarks and archaeological sites.\\nopen_domain: The response maintains a friendly and helpful tone.\\nStep 2: Score based on the rating rubric. Give a brief rationale to explain your evaluation considering each individual criterion.\\nThe response fulfills both the closed and open domain criteria effectively, thus scoring a 1.   \n",
      "4                                                                                                                                                                                                                        Step 1: Assessment\\nclosed_domain:\\nThe AI starts by asking clarifying questions to better understand the user's preferences regarding their trip to historical landmarks and archaeological sites. The AI then offers multiple destination suggestions in England and Scotland. While it focuses on these two specific countries and doesn’t offer the requested 3-5 suggestions, but many more, it demonstrates a good understanding of the user's goal. It anticipates potential factors influencing the trip planning (duration, historical interests, budget, travel style) and provides suggestions accordingly.\\nopen_domain:\\nThe AI exhibits helpful and friendly behavior by asking clarifying questions to refine its understanding of the user's needs. It uses encouraging language like \"That's a fantastic idea!\" and expresses enthusiasm for assisting with the trip planning (\"I'm excited to help...\"). It offers a wide range of relevant sites and tailors the suggestions based on the expected preferences.\\nStep 2: Score\\nThe response is rated 1, fulfilling both criteria. Although it exceeds the requested number of destinations, it effectively demonstrates an understanding of the historical sites domain and friendly interactions, aligning with the prompt's criteria for closed and open domains.   \n",
      "\n",
      "   prompteng_metrics/score  rouge/score  \\\n",
      "0                      0.5          0.0   \n",
      "1                      1.0          0.0   \n",
      "2                      1.0          0.0   \n",
      "3                      1.0          0.0   \n",
      "4                      1.0          0.0   \n",
      "\n",
      "                                                                                                                                                                                                                                                                                                                                                                                                                                                         groundedness/explanation  \\\n",
      "0                                                                          The response acknowledges the user's interest in ancient ruins in Greece and then asks clarifying questions to better understand the user's preferences. All information provided in the response is grounded in the user's prompt, as it directly relates to the user's stated desire to see ancient ruins in Greece.  It does not hallucinate or make up any information not included in the prompt.   \n",
      "1                                                                                                                             The response asks clarifying questions based on the prompt to better understand the user's travel needs.  All information provided in the response is relevant to the request in the prompt, which is planning a trip to Japan. It does not offer any concrete suggestions outside of the user's input.  Therefore, the response is fully grounded.   \n",
      "2  The response provided by the AI model is fully grounded in the user's prompt, which asked about what there is to see in the Yucatan Peninsula. The response focuses solely on attractions and activities within the Yucatan Peninsula, drawing entirely on information commonly associated with the region.  It doesn't introduce any external information or personal opinions not relevant to the prompt's request. Thus, it fulfills the groundedness criterion completely.   \n",
      "3                                                                                                                                                         The response provides a list of interesting places to go in Egypt categorized by traveler type.  All information provided is general knowledge and not specific to any particular source provided in the prompt.  The prompt simply asks for interesting places and the response provides a reasonable list of options.   \n",
      "4                                                                          The response acknowledges the user's interest in visiting historical sites in England and Scotland and then proceeds to ask clarifying questions to better understand the user's preferences. It also provides some general suggestions of sites to visit in both England and Scotland. All information provided is grounded in the prompt, with no hallucinations or external information introduced.   \n",
      "\n",
      "   groundedness/score  \\\n",
      "0                 1.0   \n",
      "1                 1.0   \n",
      "2                 1.0   \n",
      "3                 0.0   \n",
      "4                 1.0   \n",
      "\n",
      "                                                                                                                                                                                                                                                                                                                                                                                                                                                                                                                                                                                                                                                                                                                                                                                                                                                                                                                                                                                                                                                                                                                                                                                                              coherence/explanation  \\\n",
      "0                                                                                                                                                                                                                                                                            STEP 1: The purpose of the user prompt is to express interest in seeing the ancient ruins in Greece. The AI should be responding in a way that provides information related to ancient ruins.\\nSTEP 2: The response starts by acknowledging the prompt and proceeds by asking clarifying questions. It has a clear beginning, but the questions do not directly satisfy the user prompt.\\nSTEP 3: Each paragraph is coherent within itself. However, the response as a whole does not relate back to the user's prompt other than an opening acknowledgement.\\nSTEP 4: The questions posed are understandable and relevant to the prompt's main topic. \\nSTEP 5: The response uses clear language and avoids ambiguity.\\nOverall, the response is incoherent. It acknowledges the prompt, then derails to asking the user questions rather than responding to the implicit request of the prompt: Tell me something about the ancient ruins in Greece.   \n",
      "1                                                                                                                                                                                                                                                 STEP 1: The purpose of the prompt is to seek assistance in planning a trip to Japan. The intended audience is someone who is planning a trip to Japan and needs help with the details.\\nSTEP 2: The AI response presents a globally coherent structure. It starts by acknowledging the request, follows with a series of questions to gather essential information for planning, and finally outlines how this information will be used to tailor a detailed plan.\\nSTEP 3: Each point flows logically into the next. The response uses bullet points to divide the questions into two main categories (About You and About Your Trip), making it easy to read and understand.\\nSTEP 4: The response effectively uses parallelisms in the phrasing of the questions (e.g., \"When are you traveling? How long will you be in Japan?\"). This enhances readability and reinforces the overall structure.\\nSTEP 5: No pronouns or references are used in a way that causes confusion.   \n",
      "2  STEP 1: The purpose of the response is to provide information to a user who is planning a trip to the Yucatan Peninsula. The intended audience is someone interested in traveling to this region.\\nSTEP 2: The response exhibits a globally coherent structure. It effectively categorizes information into sections like \"Ancient Maya Sites,\" \"Natural Wonders,\" \"Cultural Experiences,\" and \"Things to do.\" This organization allows the reader to easily navigate through different aspects of the Yucatan Peninsula's attractions.\\nSTEP 3: Locally, the coherence is maintained within each section. The bullet points under each category list specific examples relevant to the category's title. The transitions between sections are smooth, aided by bolded headings.\\nSTEP 4: The word choice is consistent and appropriate for a travel guide. The language is clear, concise, and informative. The use of descriptive adjectives, such as \"breathtaking\" and \"charming,\" enhances the appeal of the destinations.\\nSTEP 5: The use of pronouns and references is clear throughout the response. For instance, the pronoun \"it\" in the \"Sian Ka'an Biosphere Reserve\" section clearly refers to the reserve itself.   \n",
      "3                                            The response is mostly coherent, demonstrating a clear organizational structure by categorizing places of interest based on traveler type. The suggestions within each category are generally relevant to the respective interests. Transitions between categories are smooth, and the overall flow is easy to follow. However, there is some repetition, such as mentioning the Red Sea Coast and Luxor in multiple categories, which slightly disrupts the cohesion. Additionally, while the prompt asks for interesting places, the response focuses more on general categories of activities, which could be improved by offering more specific sites related to each activity. For instance, instead of just mentioning \"Scuba diving in the Red Sea,\" it could list a few specific diving sites. There's also some ambiguity in grouping Luxor under both \"For Culture Enthusiasts\" and \"For Relaxers.\" This makes the organization appear a little less precise. Overall, despite minor repetition and occasional lack of specificity, the response maintains a relatively good logical flow and clear structure, making it easy to understand the main points and suggestions.   \n",
      "4                                                                                                                                                                                STEP 1: The purpose is to respond to the user's request for information on historical sites in England and Scotland. The intended audience is the user.\\n\\nSTEP 2: The response starts by acknowledging the user's prompt and then proceeds to ask clarifying questions. It then provides some general suggestions for sites in England and Scotland before concluding with a friendly statement of intent to help the user. The structure is coherent, though the clarifying questions interrupt the response's flow slightly.\\n\\nSTEP 3: The individual sections are coherent, and the transitions between asking for additional information and providing general recommendations are somewhat abrupt.\\n\\nSTEP 4: The word choice is appropriate and helps the user understand the information.\\n\\nSTEP 5: Pronouns and references are clear.\\n\\nOverall, the response demonstrates good coherence in terms of organization and clarity. The abrupt transition and interruption are slight issues that make the response not entirely seamless.   \n",
      "\n",
      "   coherence/score  \n",
      "0              2.0  \n",
      "1              5.0  \n",
      "2              5.0  \n",
      "3              4.0  \n",
      "4              4.0  \n"
     ]
    }
   ],
   "source": [
    "print(results)"
   ]
  },
  {
   "cell_type": "code",
   "execution_count": 24,
   "id": "c9a1dd25-46fe-48d1-a436-928b85b9e836",
   "metadata": {
    "tags": []
   },
   "outputs": [],
   "source": [
    "golden_responses = results[['prompt','response']]"
   ]
  },
  {
   "cell_type": "code",
   "execution_count": 25,
   "id": "2229b6b6-b44c-4e66-a951-30e83301507f",
   "metadata": {
    "tags": []
   },
   "outputs": [
    {
     "data": {
      "text/plain": [
       "<bound method NDFrame.head of                                                                 prompt  \\\n",
       "0                           I want to see the ancient ruins in Greece.   \n",
       "1                                       Help me plan my trip to Japan.   \n",
       "2  I'm going to the Yucatan peninsula in Mexico. What is there to see?   \n",
       "3                 What are the most interesting places to go in Egypt?   \n",
       "4            I want to visit historical sites in England and Scotland.   \n",
       "\n",
       "                                                                                                                                                                                                                                                                                                                                                                                                                                                                                                                                                                                                                                                                                                                                                                                                                                                                                                                                                                                                                                                                                                                                                                                                                                                                                                                                                                                                                                                                                                                                                                                                                                                                                                                                                                                                                                                                                                                                                                                                                                                                                                                                                                                                                                                                                                                                                                                                                                                                                                                                                                                                                                                                                                                                                                                                                                                                                                                                                                                                                                                                                                                                                                                                                                                                                                                                                                                                                                                                                                                                                                                                                                                                                                                                                                                                                                                                                                                                  reference  \n",
       "0                                                                                                                                                                                                                                                                                                                                                                                                                                                                                                                                                                                                                                                                                                                                                                                                                                                                                                                                                                                                                                                                                                                                                                                                                                                                                                                                                                                                                                                                                                                                                                                                                                                                                                                                                                                                                                                                                                                                                                                                                                                                                                                                                                                                                                                                                                                                                                                                                                                                                                                                                                                                                                                                                                                                                                                                                                                                                                                That's fantastic! Greece is home to some of the most incredible ancient ruins in the world.  To help me recommend the best places for you, tell me a little more about your interests:\\n\\n* **What kind of ruins are you most interested in?**  Do you prefer grand temples, sprawling city centers, or maybe something more off-the-beaten-path like an ancient theater or burial ground?\\n* **How long are you planning to travel in Greece?**  This will help determine how many sites you can realistically see.\\n* **Are you traveling independently or with a tour group?**  This will affect your travel options and what kind of experience you want.\\n* **What is your budget?**  Some sites have entrance fees and some require guided tours.\\n* **What time of year are you planning to go?**  Weather can play a big factor in your enjoyment of these outdoor sites.\\n\\nOnce I have this information, I can give you personalized recommendations for the best ancient ruins in Greece for you to explore! \\n  \n",
       "1                                                                                                                                                                                                                                                                                                                                                                                                                                                                                                                                                                                                                                                                                                                                                                                                                                                                                                                                                                                                                                                                                                                                                                                                                                                                                                                                                                                                                                                                                                                                                                                                                                                                                                                                                                                                                                                                                                                                                                                                                                                                                                                                                                                                                                                                                                                                                I can definitely help you plan your trip to Japan! To give you the best advice, I need a bit more information. Please tell me:\\n\\n**1. About You:**\\n\\n* **When are you traveling?** (Month/Year)\\n* **How long will you be in Japan?** (Number of days/weeks)\\n* **What is your budget?** (Approximate daily spending)\\n* **What type of traveler are you?** (Solo, Couple, Family, Group)\\n* **Are you interested in specific activities?** (City sightseeing, nature hikes, skiing, festivals, etc.)\\n* **Do you have any dietary restrictions?** (Vegetarian, vegan, gluten-free, etc.)\\n* **What kind of accommodation are you looking for?** (Budget hotel, traditional Ryokan, luxury hotel, etc.)\\n\\n**2. About Your Trip:**\\n\\n* **Which cities are you interested in visiting?** (Tokyo, Kyoto, Osaka, etc.)\\n* **Are you interested in visiting any specific regions?** (Hokkaido, Okinawa, etc.)\\n* **Do you have any \"must-see\" attractions?** (Mount Fuji, Fushimi Inari Shrine, etc.)\\n* **Do you have any specific interests?** (Anime, manga, history, culture, food, etc.)\\n\\nOnce I have this information, I can help you with:\\n\\n* **Creating an itinerary** that fits your interests and time frame.\\n* **Recommending the best transportation options** for getting around Japan.\\n* **Finding accommodation** based on your budget and preferences.\\n* **Suggesting delicious food and drinks** to try in each region.\\n* **Providing tips for navigating Japan** (culture, language, etiquette).\\n\\nI'm excited to help you plan your dream trip to Japan! 😄 🇯🇵\\n  \n",
       "2  The Yucatan Peninsula is a treasure trove of ancient history, natural beauty, and vibrant culture! Here's a taste of what you can experience:\\n\\n**Ancient Maya Sites:**\\n\\n* **Chichén Itzá:** A UNESCO World Heritage site, this impressive city boasts El Castillo (the pyramid), the Great Ball Court, and the Temple of the Warriors.\\n* **Uxmal:** Renowned for its intricate carvings and architectural beauty, Uxmal is a fascinating look into Maya life.\\n* **Tulum:** Perched on a cliff overlooking the Caribbean Sea, Tulum offers breathtaking views and a glimpse into the Mayan coastal culture.\\n* **Coba:** This less-visited site boasts a towering pyramid that you can climb for stunning panoramic views of the jungle.\\n* **Ek Balam:** Known for its impressive acropolis, this site offers a more intimate experience compared to the larger ones.\\n\\n**Natural Wonders:**\\n\\n* **Cenotes:** These natural sinkholes filled with crystal-clear water offer incredible swimming and diving experiences. Some popular ones include Cenote Dos Ojos, Gran Cenote, and Cenote Ik Kil.\\n* **Sian Ka'an Biosphere Reserve:** This UNESCO World Heritage site features mangrove forests, lagoons, and diverse wildlife. You can explore it by boat, kayak, or even on a bike.\\n* **Isla Mujeres:** This island off the coast of Cancun offers stunning beaches, clear waters, and opportunities for snorkeling and diving.\\n* **Holbox:** This island is known for its pristine beaches, whale shark encounters (seasonal), and bioluminescent plankton.\\n* **Riviera Maya:** This stretch of coastline boasts beautiful beaches, luxurious resorts, and opportunities for water sports.\\n\\n**Cultural Experiences:**\\n\\n* **Merida:** The capital of Yucatan, Merida offers a rich blend of history, culture, and nightlife. Visit the Paseo de Montejo, the Catedral de San Ildefonso, and the Maya archaeological museum.\\n* **Valladolid:** A charming colonial town with a vibrant atmosphere, Valladolid is a great base for exploring cenotes and other attractions.\\n* **Mayan Villages:** Immerse yourself in local life by visiting traditional Mayan villages and experiencing their culture and crafts.\\n* **Festivals:** Yucatan celebrates many traditional festivals throughout the year, including the Day of the Dead and the Hanal Pixán (Day of the Souls).\\n\\n**Things to do:**\\n\\n* **Snorkeling and diving:** Explore the underwater world of the Caribbean Sea and discover colorful reefs, marine life, and shipwrecks.\\n* **Ziplining:** Soar through the jungle canopy and enjoy breathtaking views of the Yucatan Peninsula.\\n* **Kayaking and paddleboarding:** Explore tranquil lagoons, mangrove forests, and hidden coves.\\n* **Birdwatching:** The Yucatan is home to a diverse array of bird species, including flamingos, toucans, and parrots.\\n* **Hiking and biking:** Explore the Yucatan's natural beauty on foot or by bike.\\n\\n**Best time to visit:**\\n\\nThe Yucatan Peninsula enjoys a tropical climate with warm temperatures year-round. The best time to visit is during the dry season (November to April) when humidity is lower and rain is less frequent. However, remember that this is also the peak tourist season, so expect higher prices and crowds.\\n\\n**Tips for planning your trip:**\\n\\n* Book flights and accommodations in advance, especially during peak season.\\n* Consider purchasing a Yucatan Pass for discounted entry to multiple archaeological sites.\\n* Learn a few basic Spanish phrases.\\n* Pack light, breathable clothing, and sunscreen.\\n* Be prepared for humid weather and mosquitos.\\n* Stay hydrated and eat plenty of fresh fruits and vegetables.\\n\\nRemember, this is just a glimpse of what the Yucatan Peninsula has to offer. You can customize your itinerary based on your interests, time, and budget. Enjoy your trip! \\n  \n",
       "3                                                                                                                                                                                                                                                                                                                                                                                                                                                                                                                                                                                                                                                                                                                                                                                                                                                                                                                                                                                   Egypt is a treasure trove of history, culture, and natural beauty. Choosing the \"most interesting\" depends on your personal interests, but here are some options categorized for different travelers:\\n\\n**For History Buffs:**\\n\\n* **The Pyramids of Giza:** A must-see, these iconic structures are a testament to the ancient Egyptians' engineering prowess.\\n* **The Sphinx:** This enigmatic statue, guarding the pyramids, is shrouded in mystery and intrigue.\\n* **The Valley of the Kings:** Explore the tombs of pharaohs like Tutankhamun and Ramses II.\\n* **The Valley of the Queens:** Discover the final resting places of the pharaohs' wives and children.\\n* **Karnak Temple Complex:** This sprawling complex, built over 2000 years, is a breathtaking example of ancient Egyptian architecture and religious practice.\\n* **Luxor Temple:** Located on the east bank of the Nile, this temple is equally impressive and offers a glimpse into ancient Egyptian life.\\n* **Abu Simbel:** These two temples were moved from their original location to save them from flooding. The impressive scale and intricate carvings are awe-inspiring.\\n* **Alexandria:** The ancient city of Alexandria boasts the Bibliotheca Alexandrina, a modern library built in the spirit of the famed ancient library.\\n\\n**For Culture Enthusiasts:**\\n\\n* **Cairo:** Explore the bustling city, home to the Egyptian Museum, the Khan el-Khalili Bazaar, and the Coptic Cairo district.\\n* **Aswan:** Experience Nubian culture and enjoy a felucca ride on the Nile.\\n* **Siwa Oasis:** This remote oasis offers a glimpse into a different way of life, with traditional architecture and a unique culture.\\n* **The Red Sea Coast:** Discover vibrant coral reefs and diverse marine life while enjoying relaxation and adventure.\\n\\n**For Adventure Seekers:**\\n\\n* **Hiking in the Sinai Peninsula:** Explore the dramatic landscapes and climb Mount Catherine, the highest peak in Egypt.\\n* **Scuba diving in the Red Sea:** Dive into the crystal-clear waters and witness the abundance of marine life.\\n* **Sandboarding in the Western Desert:** Ride the dunes and enjoy the thrill of desert adventure.\\n* **Hot air balloon ride over Luxor:** Get a breathtaking aerial view of the ancient temples and the Nile River.\\n\\n**For Relaxers:**\\n\\n* **The Red Sea Coast:** Relax on pristine beaches, enjoy luxurious resorts, and indulge in water sports.\\n* **Luxor:** Enjoy a leisurely cruise on the Nile, explore the ancient temples at a relaxed pace, and soak up the tranquil atmosphere.\\n* **Siwa Oasis:** Escape the hustle and bustle and immerse yourself in the peaceful oasis environment.\\n\\nNo matter your interests, Egypt has something to offer everyone. Be sure to plan your trip in advance, consider the best time to visit based on your interests, and be prepared for an unforgettable adventure!\\n  \n",
       "4                                                                                                                                                                                                                                                                                                                                                                                                                                                                                                                                                                                                                                                                                                                                                                                                                                                                                                                                                                                                                                                                                                                                                                                                                                                                                                                                                                                                                                                                                                                                                                                                                                                                                                                                              That's a fantastic idea! England and Scotland are bursting with historical sites, each offering unique experiences. To tailor a perfect itinerary, I need a bit more information about your preferences. \\n\\n**Tell me:**\\n\\n* **How long is your trip?** This will help determine how many sites you can realistically visit.\\n* **What kind of history are you interested in?**  Do you prefer ancient ruins, castles, royal palaces, religious sites, battlefields, or something else?\\n* **What's your budget?** This will help recommend suitable accommodation and activities.\\n* **What kind of travel experience do you prefer?**  Are you looking for a relaxed sightseeing tour or something more adventurous?\\n* **Do you have any specific destinations in mind?** \\n\\nOnce I have this information, I can provide you with a personalized list of historical sites and travel tips.  \\n\\n**Here are some general suggestions to get you started:**\\n\\n**England:**\\n\\n* **Stonehenge:** One of the most iconic prehistoric monuments in the world.\\n* **Roman Baths:**  Explore the impressive Roman bath complex in Bath.\\n* **York:** Visit the historic city walls and York Minster, a stunning Gothic cathedral.\\n* **Tower of London:** Discover the historic castle, home to the Crown Jewels.\\n* **Westminster Abbey:**  Admire the gothic architecture and explore the tombs of British monarchs.\\n* **Stratford-upon-Avon:**  The birthplace of William Shakespeare, a must-visit for literary enthusiasts.\\n\\n**Scotland:**\\n\\n* **Edinburgh Castle:**  A majestic fortress overlooking the city.\\n* **Loch Ness:** Explore the legendary loch, known for the mythical monster Nessie.\\n* **Skara Brae:** A Neolithic village preserved under mounds of sand.\\n* **Stirling Castle:**  Visit the historic castle overlooking Stirling, a strategic location in Scottish history.\\n* **Rosslyn Chapel:**  Admire the intricate carvings and mysterious architecture of this 15th-century chapel.\\n* **Culloden Battlefield:**  Explore the site of the final battle of the Jacobite rebellion.\\n\\nI'm excited to help you plan your trip to England and Scotland! 😊 \\n  >"
      ]
     },
     "execution_count": 25,
     "metadata": {},
     "output_type": "execute_result"
    }
   ],
   "source": [
    "pd.set_option('display.max_colwidth', None)\n",
    "golden_eval_dataset = golden_responses.rename(columns={\"prompt\": \"prompt\", \"response\": \"reference\"})\n",
    "golden_eval_dataset.head"
   ]
  },
  {
   "cell_type": "markdown",
   "id": "1fda451b-acf3-4429-b388-6e5077016f63",
   "metadata": {},
   "source": [
    "## Step 4. Evaluate tuned Gemini model "
   ]
  },
  {
   "cell_type": "code",
   "execution_count": 11,
   "id": "c6cdf95a-9328-4e5e-b7cb-17e07a6a5e7e",
   "metadata": {
    "tags": []
   },
   "outputs": [
    {
     "name": "stdout",
     "output_type": "stream",
     "text": [
      "Generating a total of 5 responses from Gemini model 1926929312049528832.\n"
     ]
    },
    {
     "name": "stderr",
     "output_type": "stream",
     "text": [
      "100%|██████████| 5/5 [00:06<00:00,  1.37s/it]"
     ]
    },
    {
     "name": "stdout",
     "output_type": "stream",
     "text": [
      "All 5 responses are successfully generated from Gemini model 1926929312049528832.\n",
      "Multithreaded Batch Inference took: 6.8616636139998946 seconds.\n"
     ]
    },
    {
     "name": "stderr",
     "output_type": "stream",
     "text": [
      "\n"
     ]
    },
    {
     "name": "stdout",
     "output_type": "stream",
     "text": [
      "Computing metrics with a total of 20 Vertex Gen AI Evaluation Service API requests.\n"
     ]
    },
    {
     "name": "stderr",
     "output_type": "stream",
     "text": [
      "100%|██████████| 20/20 [01:22<00:00,  4.15s/it]"
     ]
    },
    {
     "name": "stdout",
     "output_type": "stream",
     "text": [
      "All 20 metric requests are successfully computed.\n",
      "Evaluation Took:82.99699030299996 seconds\n"
     ]
    },
    {
     "name": "stderr",
     "output_type": "stream",
     "text": [
      "\n"
     ]
    }
   ],
   "source": [
    "tuned_model_endpoint = \"1926929312049528832\"\n",
    "tuned_model_name = f\"projects/{PROJECT_ID}/locations/{LOCATION}/endpoints/{tuned_model_endpoint}\"\n",
    "tuned_gemini_model = GenerativeModel(tuned_model_name)\n",
    "tuned_gemini_task = EvalTask(\n",
    "    dataset=golden_eval_dataset,\n",
    "    metrics=metrics,\n",
    ")\n",
    "tuned_gemini_result = tuned_gemini_task.evaluate(\n",
    "    model=tuned_gemini_model,\n",
    ")"
   ]
  },
  {
   "cell_type": "code",
   "execution_count": 12,
   "id": "a85ccbeb-a4ac-42dc-9123-1911070f74c9",
   "metadata": {},
   "outputs": [
    {
     "data": {
      "text/plain": [
       "<bound method NDFrame.head of                                                                 prompt  \\\n",
       "0                           I want to see the ancient ruins in Greece.   \n",
       "1                                       Help me plan my trip to Japan.   \n",
       "2  I'm going to the Yucatan peninsula in Mexico. What is there to see?   \n",
       "3                 What are the most interesting places to go in Egypt?   \n",
       "4            I want to visit historical sites in England and Scotland.   \n",
       "\n",
       "                                                                                                                                                                                                                                                                                                                                                                                                                                                                                                                                                                                                                                                                                                                                                                                                                                                                                                                                                                                                                                                                                                                                                                                                                                                                                                                                                                                                                                                                                                                                                                                                                                                                                                                                                                                                                                                                                                                                                                                                                                                                                                                                                                                                                                                                                                                                                                                                                                                                                                                                                                                                                                                                                                                                                                                                                                                                                                                                                                                                                                                                                                                                                                                                                                                                                                                                                                                                                                                                                                                                                                                                                                                           reference  \\\n",
       "0                                                                                                                                                                                                                                                                                                                                                                                                                                                                                                                                                                                                                                                                                                                                                                                                                                                                                                                                                                                                                                                                                                                                                                                                                                                                                                                                                                                                                                                                                                                                                                                                                                                                                                                                       That's fantastic! Greece is home to some of the most impressive ancient ruins in the world. To help you plan your trip, tell me a little more about what you're interested in seeing:\\n\\n**What kind of ruins are you most interested in?**\\n\\n* **Classical Greek architecture:** The Acropolis in Athens, the Temple of Poseidon at Sounion, the Temple of Olympian Zeus in Athens, the Sanctuary of Asclepius in Epidaurus.\\n* **Mycenaean civilization:** The Palace of Mycenae, the Lion Gate, the Treasury of Atreus.\\n* **Minoan civilization:** The Palace of Knossos on Crete, the Palace of Phaistos on Crete.\\n* **Roman ruins:** The Roman Agora in Athens, the Odeon of Herodes Atticus.\\n* **Byzantine architecture:** The Hagia Sophia in Istanbul (Turkey), the Chora Church in Istanbul (Turkey), the Monastery of Daphni near Athens.\\n\\n**What is your preferred travel style?**\\n\\n* **Organized tours:** Many tour operators offer guided tours of Greece's ancient ruins. This can be a good option if you want to learn about the history and culture of the sites.\\n* **Independent travel:** You can also visit the ruins independently, which gives you more flexibility to explore at your own pace.\\n* **Budget travel:** If you're on a tight budget, there are plenty of ways to see the ruins affordably. You can take public transportation, stay in hostels, and eat at local restaurants.\\n* **Luxury travel:** If you're looking for a more luxurious experience, there are many high-end hotels and resorts near the ruins.\\n\\n**How much time do you have?**\\n\\n* A week is a good amount of time to see some of the highlights of Greece's ancient ruins.\\n* If you have more time, you can explore more of the country and see less well-known sites.\\n\\nOnce you tell me more about your interests, I can provide you with more specific recommendations for your trip to Greece! \\n   \n",
       "1                                                                                                                                                                                                                                                                                                                                                                                                                                                                                                                                                                                                                                                                                                                                                                                                                                                                                                                                                                                                                                                                                                                                                                                                                                                                                                                                                                                                                                                                                                                                                                                                                                                                                                                                                                                                                                                                                                                                                                                                                                                                                                                                                                                                                                                                                                                                               Let's plan your trip to Japan! To get started, tell me a bit about yourself and what you're looking for in your trip:\\n\\n**About you:**\\n\\n* **When are you planning to travel?** (Season, month, specific dates)\\n* **How long will your trip be?** (Number of days)\\n* **What's your budget?** (Rough estimate)\\n* **Who are you traveling with?** (Solo, couple, family, friends)\\n* **Do you have any dietary restrictions or allergies?**\\n* **Are you interested in a specific type of trip?** (Relaxing, adventurous, cultural, historical, etc.)\\n\\n**What are your interests?**\\n\\n* **What kind of activities do you enjoy?** (Hiking, shopping, museums, nightlife, etc.)\\n* **What kind of food do you like?** (Sushi, ramen, tempura, etc.)\\n* **Are there any specific landmarks or attractions you want to see?** (Mount Fuji, Tokyo Skytree, Hiroshima Peace Memorial, etc.)\\n* **What's your preferred style of travel?** (Luxury, budget, backpacking, etc.)\\n* **What's your comfort level with language barriers?**\\n\\nOnce I have a better understanding of your preferences, I can provide you with a personalized itinerary, recommendations for accommodation, transportation, and things to do. I can also help you with visa requirements, packing tips, and other logistical details.  \\n   \n",
       "2  The Yucatan Peninsula is a treasure trove of Mayan history, natural wonders, and vibrant culture! Here's a taste of what awaits you:\\n\\n**Mayan History & Archeology:**\\n\\n* **Chichén Itzá:** A UNESCO World Heritage site, boasting the iconic El Castillo pyramid, the Great Ball Court, and the Temple of the Warriors.\\n* **Uxmal:**  A marvel of Puuc architecture, known for its intricate carvings and the Governor's Palace.\\n* **Ek Balam:**  A less crowded site with impressive pyramids, a painted stucco facade, and the chance to climb to the top for panoramic views.\\n* **Coba:**  Explore the largest Mayan city with the chance to climb Nohoch Mul, the tallest pyramid on the peninsula.\\n* **Tulum:**  Cliffside Mayan ruins perched overlooking the turquoise Caribbean Sea.\\n* **Mayan Cenotes:**  These natural sinkholes offer a glimpse into the Mayan world, with many serving as sacred ritual sites.\\n\\n**Natural Wonders:**\\n\\n* **Cenotes:**  Swim, snorkel, or scuba dive in the crystalline waters of these incredible underground caves and sinkholes.  Some popular ones include Dos Ojos, Gran Cenote, and Ik Kil.\\n* **The Riviera Maya:**  Stretching along the Caribbean coast, this area boasts pristine beaches, turquoise waters, and lush jungle.\\n* **Sian Ka'an Biosphere Reserve:**  Explore this UNESCO World Heritage site by boat, marveling at mangroves, lagoons, and diverse wildlife.\\n* **Holbox Island:**  Escape to this tranquil island known for its pink flamingos, whale shark encounters (seasonal), and laid-back atmosphere.\\n* **Isla Mujeres:**  A charming island with beautiful beaches, a turtle sanctuary, and the iconic Isla Mujeres Lighthouse.\\n\\n**Culture & Activities:**\\n\\n* **Merida:**  The vibrant capital of Yucatan, offering colonial architecture, lively markets, and the chance to experience traditional Mexican life.\\n* **Valladolid:**  A charming colonial town known for its colorful streets, delicious Yucatecan cuisine, and proximity to cenotes.\\n* **Tulum:**  A bohemian town with a bustling nightlife, delicious restaurants, and a laid-back vibe.\\n* **Mayan Cooking Classes:**  Learn to cook traditional Yucatecan dishes, from Cochinita Pibil to Pozole.\\n* **Hacienda Tours:**  Explore historic haciendas, once thriving agricultural estates, now often transformed into luxurious hotels or cultural centers.\\n\\n**Beyond the Peninsula:**\\n\\n* **Campeche:**  A charming colonial city on the Gulf of Mexico, offering rich history and stunning architecture.\\n* **Palenque:**  Explore this ancient Mayan city in the Chiapas region, famous for its intricate temples and hieroglyphics.\\n\\n**Tips for Planning Your Trip:**\\n\\n* **Best Time to Visit:**  The dry season (November - April) offers the best weather and fewer crowds.\\n* **Travel Style:**  The Yucatan offers options for all budgets and preferences, from luxury resorts to budget-friendly hostels.\\n* **Language:**  While English is spoken in tourist areas, knowing basic Spanish will enhance your experience.\\n* **Transportation:**  Renting a car is recommended to explore the peninsula, but public transportation is also available.\\n* **Pre-book Accommodation:**  Especially during peak season, book your hotels or tours in advance.\\n\\n**To help you plan your trip further, tell me:**\\n\\n* **What are your interests?**  Are you most interested in Mayan history, beaches, nature, or culture?\\n* **How long will you be staying?**\\n* **What's your budget?**\\n\\nThe Yucatan Peninsula offers a diverse and captivating experience. Happy travels!   \n",
       "3                                                                                                                                                                                                                                                                                                                                                                                                                                                                                                                                                                                                    Egypt is a treasure trove of ancient wonders, vibrant culture, and stunning landscapes. Here are some of the most interesting places to go, categorized by interest:\\n\\n**Ancient Wonders & History:**\\n\\n* **Giza Plateau:** Home to the iconic Pyramids of Giza (including the Great Pyramid of Giza), the Sphinx, and other ancient tombs.\\n* **Luxor:** Known as the \"City of the Living and the Dead,\" this ancient city boasts the Valley of the Kings, the Valley of the Queens, Karnak Temple, and Luxor Temple.\\n* **Abu Simbel:** Two massive rock-cut temples dedicated to Pharaoh Ramesses II, relocated to their current location due to the construction of the Aswan High Dam.\\n* **Alexandria:** Once a thriving Roman city, Alexandria offers the Bibliotheca Alexandrina, the Roman Catacombs, and the Pompey's Pillar.\\n* **Saqqara:** Explore the Step Pyramid of Djoser, the oldest known pyramid in Egypt, and other ancient burial complexes.\\n* **Dendera Temple:** This well-preserved temple complex is known for its intricate astronomical carvings and colorful murals.\\n\\n**Culture & City Life:**\\n\\n* **Cairo:** Egypt's bustling capital city offers a mix of modern and ancient, with attractions like the Egyptian Museum, Khan el-Khalili bazaar, and the Citadel of Cairo.\\n* **Alexandria:** Experience the cosmopolitan atmosphere of this coastal city, known for its vibrant cultural scene and historic landmarks.\\n* **Aswan:** Explore the Nubian culture and enjoy the serenity of the Nile River in this picturesque city.\\n\\n**Nature & Adventure:**\\n\\n* **Red Sea Coast:** Dive into the world's best diving spots and explore the coral reefs, shipwrecks, and diverse marine life.\\n* **Siwa Oasis:** Immerse yourself in the unique Berber culture and enjoy the serene landscapes of this desert oasis.\\n* **White Desert:** Witness the surreal beauty of the White Desert National Park, where wind-eroded rock formations resemble giant mushrooms.\\n* **St. Catherine's Monastery:** Explore this historic monastery nestled in the Sinai Peninsula, known for its ancient manuscripts and stunning scenery.\\n\\n**Other Unique Experiences:**\\n\\n* **Hot Air Balloon Ride over Luxor:** Enjoy breathtaking panoramic views of the ancient temples and the Nile River.\\n* **Nile Cruise:** Experience the charm of cruising down the Nile River, visiting ancient sites and enjoying traditional Egyptian hospitality.\\n* **Bedouin Camp in the Desert:** Spend a night under the stars in a traditional Bedouin tent, enjoying authentic food and hospitality.\\n* **Shopping in Khan el-Khalili:** Get lost in the labyrinthine alleys of this historic bazaar and find unique souvenirs and handcrafted goods.\\n\\nThis is just a glimpse of the many interesting places you can visit in Egypt. The choice ultimately depends on your personal interests and preferences. \\n\\nRemember to plan your trip in advance, obtain the necessary visas, and be respectful of local customs and traditions.\\n   \n",
       "4                                                                                                                                                                                                                                                                                                                                                                                                                                                                                                                                                                                                                                                                                                                                                                                                                                                                                                                                                                                                                                                                                                                                                                                                                                                                                                                                                                                                                                                                                                                                                                                                                                                                                                                                                                                                                                                                                                                                                                                                                                                                                                                                                                                                                                                                                                                                                                                                                                                                                                                                                                                                                                                                                                                                                                                                                                                                                             That's fantastic! England and Scotland are overflowing with fascinating historical sites. To give you the best recommendations, tell me a little more about what you're looking for:\\n\\n* **What are your main interests?** Castles? Ancient ruins? Religious sites? Museums? Royal history? \\n* **What type of experience are you looking for?** Guided tours? Self-guided explorations? Interactive exhibits?\\n* **How much time do you have?** A weekend trip? A week? Longer?\\n* **What is your budget?**\\n* **Do you have any specific regions in mind?** \\n* **Are there any particular historical figures or events that interest you?**\\n\\nOnce I know more about your preferences, I can suggest some amazing historical sites tailored to your interests! \\n   \n",
       "\n",
       "                                                                                                                                                                                                                                                                                                                                                                                                                                                                                                                                                                                                                                                                                                                                                                                                                                                                                                                                                                                                                                                                                                                                                                                                                                                                                                                                                                                                                                                                                                                                                                                                                                                                                                                                                                                                                                                                                                                                                                                                                                                                                                                                                                                                                                                                                                                                                                                                                                                                                                                response  \\\n",
       "0                                                                                                                                                                                                                                                                                                                                                                                                                                                                                                                                                                                                                                                                                                                                                                                                                                                                                                                                                                                                                                                                                                                                                                                                                                                                                                                                                                                                                                                                                                                                                                                                                                                                                                                                                                                                                                                                                                                                                                                                                                                                                                                                                    Greece is home to many ancient ruins, from temples to city walls to theaters. The most famous of these ruins are the Acropolis of Athens, the Temple of Zeus at Olympia, the Palace of Knossos on Crete, and the ancient city of Delphi. There are also many other ancient ruins to be explored in Greece, including the ruins of Mycenae, Sparta, and Corinth.\\n\\n   \n",
       "1                                                                                                                                                                                                                                                                                                                                                                                                                                                                                                                                                                                                                                                                                                                                                                                                                                                                                                                                                                                                                                                                                                                                                                                                                                                                                                  I cannot directly plan your trip to Japan, as it requires your specific preferences, such as preferred destinations, length of stay, budget, interests, etc. To receive specific recommendations, it is recommended to start researching potential destinations and activities that may interest you, and then reach out to a travel agent or a travel planner for more in-depth assistance.\\n\\nHere is a general overview of a sample 7-day itinerary in Japan that you can adjust based on your interests:\\n- Day 1: Arrive in Tokyo, check into hotel and explore the neighborhood\\n- Day 2: Visit Shibuya Crossing and Harajuku, enjoy the street food scene\\n- Day 3: Explore the historic Asakusa district, including Senso-ji Temple and Nakamise Street\\n- Day 4: Visit the Imperial Palace and the Meiji Jingu Shrine, enjoy a traditional tea ceremony\\n- Day 5: Take a day trip to Hakone, enjoying the hot springs and views of Mount Fuji\\n- Day 6: Visit the Ginza district for shopping and explore the trendy neighborhoods of Shimokitazawa and Shinjuku\\n- Day 7: Depart from Tokyo\\n\\nYou can also tailor your itinerary to visit other destinations in Japan such as Kyoto, Osaka, Nara, etc.\\n\\n   \n",
       "2                                                                                                                                                                                                                                                                                                                                                                                          The Yucatan Peninsula in Mexico is a beautiful and fascinating region with many interesting sights to see. Some of the most popular attractions include:\\n\\n* Mayan Ruins: The peninsula is home to some of the most impressive Mayan ruins in the world, including the Chichen Itza, Tulum, and Uxmal. These ruins offer a fascinating glimpse into the history and culture of the ancient Mayan civilization.\\n\\n* Beaches and Coastal Towns: The Yucatan Peninsula boasts some of the most stunning beaches in the world, including the Playa del Carmen, Cancun, and Cozumel. You can also visit charming coastal towns such as Valladolid, Isla Mujeres, and Merida, which offer a unique cultural experience.\\n\\n* Cenotes: The Yucatan Peninsula is home to numerous cenotes, which are natural sinkholes that are filled with fresh water. These cenotes offer a unique swimming and snorkeling experience and are an important part of the region's cultural heritage.\\n\\n* Biosphere Reserves and Nature Parks: The Yucatan Peninsula is home to several biosphere reserves and nature parks, including the Calakmul Biosphere Reserve and the Rio Lagartos Biosphere Reserve. These parks offer a chance to explore the region's unique flora and fauna.\\n\\n* Mayan Culture and Traditions: The Mayan culture and traditions are an important part of the region's heritage. You can learn more about Mayan culture by visiting local museums, attending Mayan festivals, or taking a tour of a Mayan village.\\n\\n* Cooking Classes: The Yucatan Peninsula is known for its delicious cuisine, and you can take a cooking class to learn how to prepare traditional Mayan dishes.\\n\\n* Diving and Snorkeling: The Caribbean Sea off the coast of the Yucatan Peninsula is a great spot for diving and snorkeling. You can see colorful fish, coral reefs, and ancient Mayan ruins underwater.\\n\\nOverall, the Yucatan Peninsula offers a wide range of things to see and do, from exploring Mayan ruins and beaches to experiencing Mayan culture and traditions and exploring cenotes and biosphere reserves.\\n\\n   \n",
       "3                                                                                                                                                                                                                                                                                                                                                                                                                                                                                                                                                                                                                                                                                                                                                                                                                                                                                                                                                                                                                                                                                                                                                                                                                                                                                                                                                                                                                                 Egypt is a country with a rich history and culture, and there are many interesting places to visit. Some of the most popular tourist destinations in Egypt include:\\n\\n* The Pyramids of Giza, located near Cairo, are one of the most iconic landmarks in the world and are a testament to the ancient Egyptians' engineering prowess.\\n\\n* The Sphinx, also located in Giza, is a giant stone statue of a mythical creature with the head of a human and the body of a lion.\\n\\n* The Karnak Temple, located in Luxor, is the largest religious building ever built, and is a masterpiece of ancient Egyptian architecture.\\n\\n* The Valley of the Kings, located on the west bank of the Nile River, is home to the tombs of several pharaohs, including Tutankhamun.\\n\\n* Abu Simbel, located on the southern shore of Lake Nasser, is a temple complex dedicated to the pharaoh Ramses II and his queen Nefertari.\\n\\nThese are just a few of the many interesting places to visit in Egypt, and the country has much more to offer in terms of culture, history, and nature.\\n\\n   \n",
       "4  England and Scotland are home to many amazing historical sites, and there are plenty of options to choose from.\\n\\nHere are a few suggestions for historical sites in England:\\n\\n1. Tower of London - One of London's most iconic landmarks, the Tower of London is a historic castle with a rich history dating back to the 11th century. It served as a royal palace, a prison, and a treasury over the years and is now a World Heritage Site.\\n\\n2. Stonehenge - A prehistoric monument located in Wiltshire, Stonehenge is an iconic example of Neolithic architecture. The stones are believed to have been erected over 4,000 years ago and are a popular tourist destination.\\n\\n3. Roman Baths - Located in Bath, Somerset, the Roman Baths are a well-preserved example of Roman architecture in England. The baths were used by the Romans for over 300 years and are a popular tourist destination.\\n\\n4. Hadrian's Wall - Built by the Romans in the 2nd century AD, Hadrian's Wall is a historic wall that stretches across northern England from coast to coast. It's a great place to explore and learn about the Roman occupation of England.\\n\\nHere are a few suggestions for historical sites in Scotland:\\n\\n1. Edinburgh Castle - Situated atop an extinct volcano in Edinburgh, Edinburgh Castle is one of the most iconic historical sites in Scotland. It served as a royal palace and a fortress over the years and is now a popular tourist destination.\\n\\n2. Urquhart Castle - Located on the shores of Loch Ness, Urquhart Castle is a historic castle with a rich history dating back to the 13th century. It's a great place to explore and learn about the history of Scotland.\\n\\n3. Glamis Castle - Located in Angus, Glamis Castle is a historic castle with a long and fascinating history dating back to the 14th century. It's the ancestral home of Queen Elizabeth II and is a popular tourist destination.\\n\\n4. Stirling Castle - Situated on a hilltop overlooking the city of Stirling, Stirling Castle is a historic castle with a long and rich history dating back to the 12th century. It's a great place to explore and learn about the history of Scotland.\\n\\nTo help you choose the best historical sites to visit, you may want to consider your interests and the amount of time you have available. There are many resources available online that can provide you with more information about these and other historical sites in England and Scotland.\\n\\n   \n",
       "\n",
       "                                                                                                                                                                                                                                                                                                                                                                                                                                                                                                                                                                                                                                                                                                                                                                                      prompteng_metrics/explanation  \\\n",
       "0                                                                                                                                                                                                                                                                                                        closed_domain: The response is good. It suggests Greece as a travel destination and provides examples of historical landmarks and archaeological sites, including the Acropolis of Athens, the Temple of Zeus at Olympia, the Palace of Knossos, and more. It fulfills the request of providing 3-5 destination suggestions within a single country.\\nopen_domain:  N/A\\nOverall, the response meets the requirement of both criteria by sticking to a specific domain and giving a satisfactory response.   \n",
       "1  closed_domain: The response provides a sample itinerary with some historical landmarks like Senso-ji Temple, Imperial Palace and Meiji Jingu Shrine. Although the AI could not provide specific recommendations for the trip to Japan, it suggested reaching out to a travel agent or planner, and gives examples of destinations in Japan which satisfies the helpful travel agent persona. Thus, this response satisfies the closed-domain criterion.\\nopen_domain: The AI replies \"I cannot directly plan your trip to Japan\" which is considered friendly and helpful. Although the AI cannot plan the trip, it still provides alternative solutions (e.g., travel agent or planner) along with a sample 7-day itinerary, making it helpful and friendly. This response satisfies the open_domain criterion.   \n",
       "2                                                                                       closed_domain: The response focuses on the Yucatan Peninsula in Mexico, which is rich in historical landmarks (Mayan ruins) and archaeological sites. It provides a detailed list of attractions related to history, culture, and nature, aligning well with the user's interest.\\nopen_domain: The response demonstrates helpfulness by providing various options related to the user's prompt. The AI maintains a friendly tone by highlighting the beauty and fascination of the region and offering specific examples like Chichen Itza, Tulum, Uxmal, etc.  It doesn’t explicitly say \"I don't know\" when it lacks information, but it stays within the requested scope, implicitly indicating its knowledge boundary.   \n",
       "3                                                                                                                                                                                                            closed_domain: The response provides a detailed list of historical landmarks and archaeological sites within a specific country (Egypt), fulfilling the user's request. The suggestions are relevant and informative, making it a helpful travel guide.\\nopen_domain: The response demonstrates helpfulness by offering a comprehensive list of destinations and additional context about Egypt's rich history and culture. While the AI doesn't explicitly say \"I don't know\" when it lacks information, it maintains a friendly and informative tone, indirectly suggesting its willingness to help.   \n",
       "4                                                                   Closed Domain:\\nThe AI suggests locations rich in history and archeology in England and Scotland such as the Tower of London, Stonehenge, Roman Baths, Hadrian's wall, Edinburgh Castle, Urquhart Castle, Glamis Castle, and Stirling Castle.\\nIt fulfills the request of providing suggestions of places to travel and offers variety in the suggested locations.\\n\\nOpen Domain:\\nThe AI is helpful by providing the requested suggestions in an informative way including a brief description for each location.\\nIt is friendly by using a polite and conversational tone and uses clear and concise language.\\nIt does not exhibit any signs of hallucination.\\n\\nOverall:\\nThe response is good and meets the requirements of the prompt.   \n",
       "\n",
       "   prompteng_metrics/score  rouge/score  \\\n",
       "0                      1.0     0.260870   \n",
       "1                      1.0     0.296296   \n",
       "2                      1.0     0.439803   \n",
       "3                      1.0     0.354472   \n",
       "4                      1.0     0.178368   \n",
       "\n",
       "                                                                                                                                                                                                                                                                                                                                                                                 groundedness/explanation  \\\n",
       "0                                                                                                                                                                        The response mentions several ancient ruins located in Greece, but it does not hallucinate any information.  All information is general and can be derived from the prompt requesting information about ancient ruins in Greece.   \n",
       "1  The response is fully grounded. While it provides a sample itinerary and suggests other destinations, it explicitly states it cannot plan the trip without specific preferences and encourages the user to do further research or consult a travel agent. It does not use any external information and relies solely on the user's request about planning a trip to Japan to give general suggestions.   \n",
       "2                                                                                                             The response mentions several locations on the Yucatan Peninsula but does not provide any information that isn't already included in the prompt. The AI successfully identifies what kinds of attractions the user can expect to find based only on the information included in the prompt.   \n",
       "3                                                                                                                                                                 The response mentions several popular tourist destinations in Egypt, but it does not hallucinate any information or cite any source.  All information provided can be attributed to common knowledge about Egypt's tourist attractions.   \n",
       "4                                                                                         The response fulfills the prompt by providing a list of historical sites in England and Scotland.  All information provided is relevant to the prompt. The response does not contain any hallucinated or fabricated information; it remains grounded, using solely the information presented within the prompt.   \n",
       "\n",
       "   groundedness/score  \\\n",
       "0                 1.0   \n",
       "1                 1.0   \n",
       "2                 1.0   \n",
       "3                 1.0   \n",
       "4                 1.0   \n",
       "\n",
       "                                                                                                                                                                                                                                                                                                                                                                                                                                                                                                                                                                                                                                                                                                                                                                                                                                                                                                                                                                                                                                                                                                                                                                  coherence/explanation  \\\n",
       "0  STEP 1: The purpose of the response is to provide information about ancient ruins in Greece to a user interested in visiting them. The audience is someone planning a trip and looking for suggestions.\\nSTEP 2: The global flow is somewhat coherent. The response starts by introducing the topic of ancient ruins in Greece, provides examples of famous ruins, and concludes by mentioning a few more sites. However, the overall structure could be improved with clearer thematic grouping or categorization of the ruins.\\nSTEP 3: Local coherence is inconsistent. The transitions between sentences are basic. The connection between the famous ruins mentioned and the \"many other ancient ruins\" could be strengthened. There's a missed opportunity to create a more engaging narrative flow by linking the different locations geographically or historically.\\nSTEP 4: Word choice and syntax are simple and repetitive. The repeated use of \"ruins\" within close proximity could be diversified.  The sentence structures lack variation, which can impact the overall flow.\\nSTEP 5: Pronoun and reference clarity are adequate. There are no ambiguous references.   \n",
       "1        STEP 1: The purpose is to help a user plan a trip to Japan. The intended audience is someone planning a trip to Japan.\\nSTEP 2: The AI starts by stating it can't plan the trip but then provides a sample itinerary. This is a bit contradictory. While the itinerary offers a basic structure, it lacks depth in terms of details and customization options, making the overall flow somewhat disjointed.\\nSTEP 3: The transition from the initial disclaimer to the sample itinerary is abrupt. The daily descriptions are brief and lack smooth transitions, making it feel more like a list than a cohesive plan.  For example, there is no smooth way to go from Day 5's trip to Hakone, to Day 6 being back in Tokyo.\\nSTEP 4: The word choice is simple and functional. There isn't much use of descriptive language or rhetorical devices to create stronger connections between ideas. The language used is very generic for travelling.\\nSTEP 5: There are no pronoun issues, but the response lacks depth in explaining the references made (e.g., Shibuya Crossing, Harajuku). More context or details about these locations would improve clarity and coherence.   \n",
       "2                                                                                                                                                                                              STEP 1: The purpose of the response is to provide information about tourist attractions in the Yucatan Peninsula. The intended audience is someone planning a trip to the region.\\nSTEP 2: The overall structure is well-organized, starting with a general introduction and then categorizing different attractions into separate bullet points. This allows for a logical flow and easy readability.\\nSTEP 3: The individual bullet points are well-structured and provide sufficient information about each attraction. The transitions between points are smooth and logical, as they are grouped thematically.\\nSTEP 4: The word choice is clear and concise, effectively conveying information about the attractions. The use of descriptive language, such as \"stunning beaches\" and \"fascinating glimpse,\" enhances the appeal.\\nSTEP 5: There are no pronouns used that could create ambiguity. Each attraction is clearly identified by name, ensuring clarity for the reader.   \n",
       "3                                                       STEP 1: The purpose of the prompt is to inquire about interesting places to visit in Egypt. The intended audience is anyone interested in travel, history, or culture, particularly those considering a trip to Egypt.\\nSTEP 2: The AI response presents a coherent list of popular tourist sites in Egypt. It starts with a general introduction and then lists specific locations with brief descriptions. The flow is logical and easy to follow.\\nSTEP 3: The response maintains local coherence by focusing on one location at a time. Each bullet point provides a concise description of the site and its significance. Transitions are smooth, mainly achieved through the consistent structure of each bullet point.\\nSTEP 4: Word choice is clear and concise, effectively conveying information about each location. The use of descriptive terms like \"iconic landmarks,\" \"giant stone statue,\" and \"masterpiece of ancient Egyptian architecture\" adds interest and provides context.\\nSTEP 5: There are no pronouns or references that cause ambiguity. Each location is clearly identified by name and location.   \n",
       "4                STEP 1: The purpose of the prompt is to request a list of historical sites in England and Scotland. The intended audience is someone planning a trip to these countries.\\nSTEP 2: The overall structure is good, with a clear division between sites in England and Scotland. The introduction and conclusion are relevant and helpful.\\nSTEP 3: Each paragraph focuses on a specific site, providing a brief description. While the information within each paragraph is coherent, the transitions between sites are basic and lack depth. For instance, simply listing sites without connecting them thematically (e.g., by historical period or architectural style) creates a sense of disjointedness. Including more sophisticated transitions would improve the flow.\\nSTEP 4: The language used is appropriate, but the descriptions are repetitive. Using synonyms and varying sentence structures would enhance cohesion. Furthermore, some connections could be strengthened. For example, the descriptions could mention how each site relates to broader historical trends or other sites.\\nSTEP 5: There are no issues with pronoun or reference clarity.   \n",
       "\n",
       "   coherence/score  \n",
       "0              3.0  \n",
       "1              3.0  \n",
       "2              5.0  \n",
       "3              5.0  \n",
       "4              4.0  >"
      ]
     },
     "execution_count": 12,
     "metadata": {},
     "output_type": "execute_result"
    }
   ],
   "source": [
    "tuned_gemini_result.metrics_table.head"
   ]
  },
  {
   "cell_type": "code",
   "execution_count": 55,
   "id": "5d3ee431-d202-4990-a27e-cf0c454fe592",
   "metadata": {
    "tags": []
   },
   "outputs": [
    {
     "data": {
      "text/plain": [
       "candidates {\n",
       "  content {\n",
       "    role: \"model\"\n",
       "    parts {\n",
       "      text: \"Greece has many sites of historical and cultural significance, including ancient ruins from the Classical period. The Acropolis of Athens is a prominent example and includes structures such as the Parthenon and Erechtheion. Other significant sites include the ancient cities of Delphi, Olympia, and Mycenae, which feature ruins of temples, theaters, and other important buildings.\\n\\nIf you\\'re interested in visiting ancient ruins in Greece, I recommend researching specific sites that are of interest to you and planning a trip to explore those locations.\\n\\n\"\n",
       "    }\n",
       "  }\n",
       "  finish_reason: STOP\n",
       "  avg_logprobs: -0.8702068510509673\n",
       "}\n",
       "usage_metadata {\n",
       "  prompt_token_count: 8\n",
       "  candidates_token_count: 105\n",
       "  total_token_count: 113\n",
       "}"
      ]
     },
     "execution_count": 55,
     "metadata": {},
     "output_type": "execute_result"
    }
   ],
   "source": [
    "# See if I can get a response from my tuned model :/\n",
    "tuned_gemini_model.generate_content(\"I want to see ruins in ancient Greece\")"
   ]
  },
  {
   "cell_type": "markdown",
   "id": "97b2824b-15ce-4474-ac52-ee31ebba94cd",
   "metadata": {},
   "source": [
    "+ 👎👎 First try to generate responses from tuned model fails because the \n",
    "  model doesn't respond. I've seen this behavior from the tuned Gemini model\n",
    "  in the app. You have to basically ask it twice (for the first user input)\n",
    "  before it responds.\n",
    "  \n",
    "  - tl;dr: I'll need to retune this model to get it to generate actual responses the first time :/"
   ]
  },
  {
   "cell_type": "markdown",
   "id": "aced60aa-7632-45f2-93e7-f6e58beb2dfd",
   "metadata": {},
   "source": [
    "## Step 5. Evaluate Gemma model\n",
    "\n",
    "+ 👎👎  The code tends to hang/freeze on this task, causing the entire notebook to hang.\n",
    "  - According to the cell output, the problem isn't getting responses from the model, it seems\n",
    "    to hang when generating the results\n",
    "  - I think I'll need to move this code into a process that supports long-running operations.\n",
    "+ It looks like evaluation pipeline jobs don't allow the same set of metrics as Pointwise\n",
    "  and Pairwise evaluations. They only provide exact match, ROUGE-L, and BLEU."
   ]
  },
  {
   "cell_type": "code",
   "execution_count": 13,
   "id": "4915351f-acbf-44ab-a10a-7a758d630956",
   "metadata": {
    "tags": []
   },
   "outputs": [
    {
     "name": "stdout",
     "output_type": "stream",
     "text": [
      "Generating a total of 5 responses from Gemini model 1926929312049528832.\n"
     ]
    },
    {
     "name": "stderr",
     "output_type": "stream",
     "text": [
      "100%|██████████| 5/5 [00:06<00:00,  1.28s/it]"
     ]
    },
    {
     "name": "stdout",
     "output_type": "stream",
     "text": [
      "All 5 responses are successfully generated from Gemini model 1926929312049528832.\n",
      "Multithreaded Batch Inference took: 6.431891494999945 seconds.\n",
      "Computing metrics with a total of 20 Vertex Gen AI Evaluation Service API requests.\n"
     ]
    },
    {
     "name": "stderr",
     "output_type": "stream",
     "text": [
      "\n",
      "100%|██████████| 20/20 [07:53<00:00,  3.96s/it]"
     ]
    },
    {
     "ename": "KeyboardInterrupt",
     "evalue": "",
     "output_type": "error",
     "traceback": [
      "\u001b[0;31m---------------------------------------------------------------------------\u001b[0m",
      "\u001b[0;31mKeyboardInterrupt\u001b[0m                         Traceback (most recent call last)",
      "File \u001b[0;32m/opt/conda/lib/python3.10/site-packages/vertexai/evaluation/_evaluation.py:662\u001b[0m, in \u001b[0;36m_compute_metrics\u001b[0;34m(evaluation_run_config)\u001b[0m\n\u001b[1;32m    661\u001b[0m \u001b[38;5;28;01mwith\u001b[39;00m tqdm(total\u001b[38;5;241m=\u001b[39mtotal_request_count) \u001b[38;5;28;01mas\u001b[39;00m pbar:\n\u001b[0;32m--> 662\u001b[0m     \u001b[38;5;28;01mwith\u001b[39;00m futures\u001b[38;5;241m.\u001b[39mThreadPoolExecutor(max_workers\u001b[38;5;241m=\u001b[39mconstants\u001b[38;5;241m.\u001b[39mMAX_WORKERS) \u001b[38;5;28;01mas\u001b[39;00m executor:\n\u001b[1;32m    663\u001b[0m         \u001b[38;5;28;01mfor\u001b[39;00m idx, row \u001b[38;5;129;01min\u001b[39;00m evaluation_run_config\u001b[38;5;241m.\u001b[39mdataset\u001b[38;5;241m.\u001b[39miterrows():\n",
      "File \u001b[0;32m/opt/conda/lib/python3.10/concurrent/futures/_base.py:649\u001b[0m, in \u001b[0;36mExecutor.__exit__\u001b[0;34m(self, exc_type, exc_val, exc_tb)\u001b[0m\n\u001b[1;32m    648\u001b[0m \u001b[38;5;28;01mdef\u001b[39;00m \u001b[38;5;21m__exit__\u001b[39m(\u001b[38;5;28mself\u001b[39m, exc_type, exc_val, exc_tb):\n\u001b[0;32m--> 649\u001b[0m     \u001b[38;5;28;43mself\u001b[39;49m\u001b[38;5;241;43m.\u001b[39;49m\u001b[43mshutdown\u001b[49m\u001b[43m(\u001b[49m\u001b[43mwait\u001b[49m\u001b[38;5;241;43m=\u001b[39;49m\u001b[38;5;28;43;01mTrue\u001b[39;49;00m\u001b[43m)\u001b[49m\n\u001b[1;32m    650\u001b[0m     \u001b[38;5;28;01mreturn\u001b[39;00m \u001b[38;5;28;01mFalse\u001b[39;00m\n",
      "File \u001b[0;32m/opt/conda/lib/python3.10/concurrent/futures/thread.py:235\u001b[0m, in \u001b[0;36mThreadPoolExecutor.shutdown\u001b[0;34m(self, wait, cancel_futures)\u001b[0m\n\u001b[1;32m    234\u001b[0m \u001b[38;5;28;01mfor\u001b[39;00m t \u001b[38;5;129;01min\u001b[39;00m \u001b[38;5;28mself\u001b[39m\u001b[38;5;241m.\u001b[39m_threads:\n\u001b[0;32m--> 235\u001b[0m     \u001b[43mt\u001b[49m\u001b[38;5;241;43m.\u001b[39;49m\u001b[43mjoin\u001b[49m\u001b[43m(\u001b[49m\u001b[43m)\u001b[49m\n",
      "File \u001b[0;32m/opt/conda/lib/python3.10/threading.py:1096\u001b[0m, in \u001b[0;36mThread.join\u001b[0;34m(self, timeout)\u001b[0m\n\u001b[1;32m   1095\u001b[0m \u001b[38;5;28;01mif\u001b[39;00m timeout \u001b[38;5;129;01mis\u001b[39;00m \u001b[38;5;28;01mNone\u001b[39;00m:\n\u001b[0;32m-> 1096\u001b[0m     \u001b[38;5;28;43mself\u001b[39;49m\u001b[38;5;241;43m.\u001b[39;49m\u001b[43m_wait_for_tstate_lock\u001b[49m\u001b[43m(\u001b[49m\u001b[43m)\u001b[49m\n\u001b[1;32m   1097\u001b[0m \u001b[38;5;28;01melse\u001b[39;00m:\n\u001b[1;32m   1098\u001b[0m     \u001b[38;5;66;03m# the behavior of a negative timeout isn't documented, but\u001b[39;00m\n\u001b[1;32m   1099\u001b[0m     \u001b[38;5;66;03m# historically .join(timeout=x) for x<0 has acted as if timeout=0\u001b[39;00m\n",
      "File \u001b[0;32m/opt/conda/lib/python3.10/threading.py:1116\u001b[0m, in \u001b[0;36mThread._wait_for_tstate_lock\u001b[0;34m(self, block, timeout)\u001b[0m\n\u001b[1;32m   1115\u001b[0m \u001b[38;5;28;01mtry\u001b[39;00m:\n\u001b[0;32m-> 1116\u001b[0m     \u001b[38;5;28;01mif\u001b[39;00m \u001b[43mlock\u001b[49m\u001b[38;5;241;43m.\u001b[39;49m\u001b[43macquire\u001b[49m\u001b[43m(\u001b[49m\u001b[43mblock\u001b[49m\u001b[43m,\u001b[49m\u001b[43m \u001b[49m\u001b[43mtimeout\u001b[49m\u001b[43m)\u001b[49m:\n\u001b[1;32m   1117\u001b[0m         lock\u001b[38;5;241m.\u001b[39mrelease()\n",
      "\u001b[0;31mKeyboardInterrupt\u001b[0m: ",
      "\nDuring handling of the above exception, another exception occurred:\n",
      "\u001b[0;31mKeyboardInterrupt\u001b[0m                         Traceback (most recent call last)",
      "Cell \u001b[0;32mIn[13], line 8\u001b[0m\n\u001b[1;32m      3\u001b[0m gemma_gemini_model \u001b[38;5;241m=\u001b[39m GenerativeModel(tuned_model_name)\n\u001b[1;32m      4\u001b[0m gemma_eval_task \u001b[38;5;241m=\u001b[39m EvalTask(\n\u001b[1;32m      5\u001b[0m     dataset\u001b[38;5;241m=\u001b[39mgolden_eval_dataset,\n\u001b[1;32m      6\u001b[0m     metrics\u001b[38;5;241m=\u001b[39mmetrics,\n\u001b[1;32m      7\u001b[0m )\n\u001b[0;32m----> 8\u001b[0m gemma_result \u001b[38;5;241m=\u001b[39m \u001b[43mpointwise_eval_task\u001b[49m\u001b[38;5;241;43m.\u001b[39;49m\u001b[43mevaluate\u001b[49m\u001b[43m(\u001b[49m\n\u001b[1;32m      9\u001b[0m \u001b[43m    \u001b[49m\u001b[43mmodel\u001b[49m\u001b[38;5;241;43m=\u001b[39;49m\u001b[43mtuned_gemini_model\u001b[49m\u001b[43m,\u001b[49m\n\u001b[1;32m     10\u001b[0m \u001b[43m)\u001b[49m\n",
      "File \u001b[0;32m/opt/conda/lib/python3.10/site-packages/vertexai/evaluation/eval_task.py:449\u001b[0m, in \u001b[0;36mEvalTask.evaluate\u001b[0;34m(self, model, prompt_template, experiment_run_name, response_column_name, baseline_model_response_column_name, evaluation_service_qps, retry_timeout, output_file_name)\u001b[0m\n\u001b[1;32m    441\u001b[0m     eval_result \u001b[38;5;241m=\u001b[39m \u001b[38;5;28mself\u001b[39m\u001b[38;5;241m.\u001b[39m_evaluate_with_experiment(\n\u001b[1;32m    442\u001b[0m         model\u001b[38;5;241m=\u001b[39mmodel,\n\u001b[1;32m    443\u001b[0m         prompt_template\u001b[38;5;241m=\u001b[39mprompt_template,\n\u001b[0;32m   (...)\u001b[0m\n\u001b[1;32m    446\u001b[0m         retry_timeout\u001b[38;5;241m=\u001b[39mretry_timeout,\n\u001b[1;32m    447\u001b[0m     )\n\u001b[1;32m    448\u001b[0m \u001b[38;5;28;01melse\u001b[39;00m:\n\u001b[0;32m--> 449\u001b[0m     eval_result \u001b[38;5;241m=\u001b[39m \u001b[43m_evaluation\u001b[49m\u001b[38;5;241;43m.\u001b[39;49m\u001b[43mevaluate\u001b[49m\u001b[43m(\u001b[49m\n\u001b[1;32m    450\u001b[0m \u001b[43m        \u001b[49m\u001b[43mdataset\u001b[49m\u001b[38;5;241;43m=\u001b[39;49m\u001b[38;5;28;43mself\u001b[39;49m\u001b[38;5;241;43m.\u001b[39;49m\u001b[43mdataset\u001b[49m\u001b[43m,\u001b[49m\n\u001b[1;32m    451\u001b[0m \u001b[43m        \u001b[49m\u001b[43mmetrics\u001b[49m\u001b[38;5;241;43m=\u001b[39;49m\u001b[38;5;28;43mself\u001b[39;49m\u001b[38;5;241;43m.\u001b[39;49m\u001b[43mmetrics\u001b[49m\u001b[43m,\u001b[49m\n\u001b[1;32m    452\u001b[0m \u001b[43m        \u001b[49m\u001b[43mmodel\u001b[49m\u001b[38;5;241;43m=\u001b[39;49m\u001b[43mmodel\u001b[49m\u001b[43m,\u001b[49m\n\u001b[1;32m    453\u001b[0m \u001b[43m        \u001b[49m\u001b[43mprompt_template\u001b[49m\u001b[38;5;241;43m=\u001b[39;49m\u001b[43mprompt_template\u001b[49m\u001b[43m,\u001b[49m\n\u001b[1;32m    454\u001b[0m \u001b[43m        \u001b[49m\u001b[43mmetric_column_mapping\u001b[49m\u001b[38;5;241;43m=\u001b[39;49m\u001b[38;5;28;43mself\u001b[39;49m\u001b[38;5;241;43m.\u001b[39;49m\u001b[43m_metric_column_mapping\u001b[49m\u001b[43m,\u001b[49m\n\u001b[1;32m    455\u001b[0m \u001b[43m        \u001b[49m\u001b[43mevaluation_service_qps\u001b[49m\u001b[38;5;241;43m=\u001b[39;49m\u001b[43mevaluation_service_qps\u001b[49m\u001b[43m,\u001b[49m\n\u001b[1;32m    456\u001b[0m \u001b[43m        \u001b[49m\u001b[43mretry_timeout\u001b[49m\u001b[38;5;241;43m=\u001b[39;49m\u001b[43mretry_timeout\u001b[49m\u001b[43m,\u001b[49m\n\u001b[1;32m    457\u001b[0m \u001b[43m    \u001b[49m\u001b[43m)\u001b[49m\n\u001b[1;32m    458\u001b[0m utils\u001b[38;5;241m.\u001b[39mupload_evaluation_results(\n\u001b[1;32m    459\u001b[0m     eval_result\u001b[38;5;241m.\u001b[39mmetrics_table, \u001b[38;5;28mself\u001b[39m\u001b[38;5;241m.\u001b[39moutput_uri_prefix, output_file_name\n\u001b[1;32m    460\u001b[0m )\n\u001b[1;32m    461\u001b[0m \u001b[38;5;28;01mreturn\u001b[39;00m eval_result\n",
      "File \u001b[0;32m/opt/conda/lib/python3.10/site-packages/vertexai/evaluation/_evaluation.py:892\u001b[0m, in \u001b[0;36mevaluate\u001b[0;34m(dataset, metrics, model, prompt_template, metric_column_mapping, evaluation_service_qps, retry_timeout)\u001b[0m\n\u001b[1;32m    890\u001b[0m _validate_metric_column_map(evaluation_run_config)\n\u001b[1;32m    891\u001b[0m t1 \u001b[38;5;241m=\u001b[39m time\u001b[38;5;241m.\u001b[39mperf_counter()\n\u001b[0;32m--> 892\u001b[0m evaluation_result \u001b[38;5;241m=\u001b[39m \u001b[43m_compute_metrics\u001b[49m\u001b[43m(\u001b[49m\u001b[43mevaluation_run_config\u001b[49m\u001b[43m)\u001b[49m\n\u001b[1;32m    893\u001b[0m t2 \u001b[38;5;241m=\u001b[39m time\u001b[38;5;241m.\u001b[39mperf_counter()\n\u001b[1;32m    894\u001b[0m _LOGGER\u001b[38;5;241m.\u001b[39minfo(\u001b[38;5;124mf\u001b[39m\u001b[38;5;124m\"\u001b[39m\u001b[38;5;124mEvaluation Took:\u001b[39m\u001b[38;5;132;01m{\u001b[39;00mt2\u001b[38;5;250m \u001b[39m\u001b[38;5;241m-\u001b[39m\u001b[38;5;250m \u001b[39mt1\u001b[38;5;132;01m}\u001b[39;00m\u001b[38;5;124m seconds\u001b[39m\u001b[38;5;124m\"\u001b[39m)\n",
      "File \u001b[0;32m/opt/conda/lib/python3.10/site-packages/vertexai/evaluation/_evaluation.py:661\u001b[0m, in \u001b[0;36m_compute_metrics\u001b[0;34m(evaluation_run_config)\u001b[0m\n\u001b[1;32m    659\u001b[0m futures_by_metric \u001b[38;5;241m=\u001b[39m collections\u001b[38;5;241m.\u001b[39mdefaultdict(\u001b[38;5;28mlist\u001b[39m)\n\u001b[1;32m    660\u001b[0m rate_limiter \u001b[38;5;241m=\u001b[39m utils\u001b[38;5;241m.\u001b[39mRateLimiter(evaluation_run_config\u001b[38;5;241m.\u001b[39mevaluation_service_qps)\n\u001b[0;32m--> 661\u001b[0m \u001b[38;5;28;01mwith\u001b[39;00m tqdm(total\u001b[38;5;241m=\u001b[39mtotal_request_count) \u001b[38;5;28;01mas\u001b[39;00m pbar:\n\u001b[1;32m    662\u001b[0m     \u001b[38;5;28;01mwith\u001b[39;00m futures\u001b[38;5;241m.\u001b[39mThreadPoolExecutor(max_workers\u001b[38;5;241m=\u001b[39mconstants\u001b[38;5;241m.\u001b[39mMAX_WORKERS) \u001b[38;5;28;01mas\u001b[39;00m executor:\n\u001b[1;32m    663\u001b[0m         \u001b[38;5;28;01mfor\u001b[39;00m idx, row \u001b[38;5;129;01min\u001b[39;00m evaluation_run_config\u001b[38;5;241m.\u001b[39mdataset\u001b[38;5;241m.\u001b[39miterrows():\n",
      "File \u001b[0;32m/opt/conda/lib/python3.10/site-packages/tqdm/std.py:1140\u001b[0m, in \u001b[0;36mtqdm.__exit__\u001b[0;34m(self, exc_type, exc_value, traceback)\u001b[0m\n\u001b[1;32m   1138\u001b[0m \u001b[38;5;28;01mdef\u001b[39;00m \u001b[38;5;21m__exit__\u001b[39m(\u001b[38;5;28mself\u001b[39m, exc_type, exc_value, traceback):\n\u001b[1;32m   1139\u001b[0m     \u001b[38;5;28;01mtry\u001b[39;00m:\n\u001b[0;32m-> 1140\u001b[0m         \u001b[38;5;28;43mself\u001b[39;49m\u001b[38;5;241;43m.\u001b[39;49m\u001b[43mclose\u001b[49m\u001b[43m(\u001b[49m\u001b[43m)\u001b[49m\n\u001b[1;32m   1141\u001b[0m     \u001b[38;5;28;01mexcept\u001b[39;00m \u001b[38;5;167;01mAttributeError\u001b[39;00m:\n\u001b[1;32m   1142\u001b[0m         \u001b[38;5;66;03m# maybe eager thread cleanup upon external error\u001b[39;00m\n\u001b[1;32m   1143\u001b[0m         \u001b[38;5;28;01mif\u001b[39;00m (exc_type, exc_value, traceback) \u001b[38;5;241m==\u001b[39m (\u001b[38;5;28;01mNone\u001b[39;00m, \u001b[38;5;28;01mNone\u001b[39;00m, \u001b[38;5;28;01mNone\u001b[39;00m):\n",
      "File \u001b[0;32m/opt/conda/lib/python3.10/site-packages/tqdm/std.py:1275\u001b[0m, in \u001b[0;36mtqdm.close\u001b[0;34m(self)\u001b[0m\n\u001b[1;32m   1273\u001b[0m \u001b[38;5;66;03m# decrement instance pos and remove from internal set\u001b[39;00m\n\u001b[1;32m   1274\u001b[0m pos \u001b[38;5;241m=\u001b[39m \u001b[38;5;28mabs\u001b[39m(\u001b[38;5;28mself\u001b[39m\u001b[38;5;241m.\u001b[39mpos)\n\u001b[0;32m-> 1275\u001b[0m \u001b[38;5;28;43mself\u001b[39;49m\u001b[38;5;241;43m.\u001b[39;49m\u001b[43m_decr_instances\u001b[49m\u001b[43m(\u001b[49m\u001b[38;5;28;43mself\u001b[39;49m\u001b[43m)\u001b[49m\n\u001b[1;32m   1277\u001b[0m \u001b[38;5;28;01mif\u001b[39;00m \u001b[38;5;28mself\u001b[39m\u001b[38;5;241m.\u001b[39mlast_print_t \u001b[38;5;241m<\u001b[39m \u001b[38;5;28mself\u001b[39m\u001b[38;5;241m.\u001b[39mstart_t \u001b[38;5;241m+\u001b[39m \u001b[38;5;28mself\u001b[39m\u001b[38;5;241m.\u001b[39mdelay:\n\u001b[1;32m   1278\u001b[0m     \u001b[38;5;66;03m# haven't ever displayed; nothing to clear\u001b[39;00m\n\u001b[1;32m   1279\u001b[0m     \u001b[38;5;28;01mreturn\u001b[39;00m\n",
      "File \u001b[0;32m/opt/conda/lib/python3.10/site-packages/tqdm/std.py:696\u001b[0m, in \u001b[0;36mtqdm._decr_instances\u001b[0;34m(cls, instance)\u001b[0m\n\u001b[1;32m    686\u001b[0m \u001b[38;5;129m@classmethod\u001b[39m\n\u001b[1;32m    687\u001b[0m \u001b[38;5;28;01mdef\u001b[39;00m \u001b[38;5;21m_decr_instances\u001b[39m(\u001b[38;5;28mcls\u001b[39m, instance):\n\u001b[1;32m    688\u001b[0m \u001b[38;5;250m    \u001b[39m\u001b[38;5;124;03m\"\"\"\u001b[39;00m\n\u001b[1;32m    689\u001b[0m \u001b[38;5;124;03m    Remove from list and reposition another unfixed bar\u001b[39;00m\n\u001b[1;32m    690\u001b[0m \u001b[38;5;124;03m    to fill the new gap.\u001b[39;00m\n\u001b[0;32m   (...)\u001b[0m\n\u001b[1;32m    694\u001b[0m \u001b[38;5;124;03m    (tqdm<=4.44.1 moved ALL subsequent unfixed bars up.)\u001b[39;00m\n\u001b[1;32m    695\u001b[0m \u001b[38;5;124;03m    \"\"\"\u001b[39;00m\n\u001b[0;32m--> 696\u001b[0m     \u001b[38;5;28;01mwith\u001b[39;00m \u001b[38;5;28mcls\u001b[39m\u001b[38;5;241m.\u001b[39m_lock:\n\u001b[1;32m    697\u001b[0m         \u001b[38;5;28;01mtry\u001b[39;00m:\n\u001b[1;32m    698\u001b[0m             \u001b[38;5;28mcls\u001b[39m\u001b[38;5;241m.\u001b[39m_instances\u001b[38;5;241m.\u001b[39mremove(instance)\n",
      "File \u001b[0;32m/opt/conda/lib/python3.10/site-packages/tqdm/std.py:111\u001b[0m, in \u001b[0;36mTqdmDefaultWriteLock.__enter__\u001b[0;34m(self)\u001b[0m\n\u001b[1;32m    110\u001b[0m \u001b[38;5;28;01mdef\u001b[39;00m \u001b[38;5;21m__enter__\u001b[39m(\u001b[38;5;28mself\u001b[39m):\n\u001b[0;32m--> 111\u001b[0m     \u001b[38;5;28;43mself\u001b[39;49m\u001b[38;5;241;43m.\u001b[39;49m\u001b[43macquire\u001b[49m\u001b[43m(\u001b[49m\u001b[43m)\u001b[49m\n",
      "File \u001b[0;32m/opt/conda/lib/python3.10/site-packages/tqdm/std.py:104\u001b[0m, in \u001b[0;36mTqdmDefaultWriteLock.acquire\u001b[0;34m(self, *a, **k)\u001b[0m\n\u001b[1;32m    102\u001b[0m \u001b[38;5;28;01mdef\u001b[39;00m \u001b[38;5;21macquire\u001b[39m(\u001b[38;5;28mself\u001b[39m, \u001b[38;5;241m*\u001b[39ma, \u001b[38;5;241m*\u001b[39m\u001b[38;5;241m*\u001b[39mk):\n\u001b[1;32m    103\u001b[0m     \u001b[38;5;28;01mfor\u001b[39;00m lock \u001b[38;5;129;01min\u001b[39;00m \u001b[38;5;28mself\u001b[39m\u001b[38;5;241m.\u001b[39mlocks:\n\u001b[0;32m--> 104\u001b[0m         \u001b[43mlock\u001b[49m\u001b[38;5;241;43m.\u001b[39;49m\u001b[43macquire\u001b[49m\u001b[43m(\u001b[49m\u001b[38;5;241;43m*\u001b[39;49m\u001b[43ma\u001b[49m\u001b[43m,\u001b[49m\u001b[43m \u001b[49m\u001b[38;5;241;43m*\u001b[39;49m\u001b[38;5;241;43m*\u001b[39;49m\u001b[43mk\u001b[49m\u001b[43m)\u001b[49m\n",
      "\u001b[0;31mKeyboardInterrupt\u001b[0m: "
     ]
    }
   ],
   "source": [
    "gemma_model_endpoint = \"3122353538139684864\"\n",
    "gemma_model_name = f\"projects/{PROJECT_ID}/locations/{LOCATION}/endpoints/{tuned_model_endpoint}\"\n",
    "gemma_gemini_model = GenerativeModel(tuned_model_name)\n",
    "gemma_eval_task = EvalTask(\n",
    "    dataset=golden_eval_dataset,\n",
    "    metrics=metrics,\n",
    ")\n",
    "gemma_result = pointwise_eval_task.evaluate(\n",
    "    model=tuned_gemini_model,\n",
    ")"
   ]
  },
  {
   "cell_type": "code",
   "execution_count": 14,
   "id": "24da820b-92c4-49cf-afe9-935d0e88bd8c",
   "metadata": {
    "tags": []
   },
   "outputs": [
    {
     "ename": "NameError",
     "evalue": "name 'gemma_result' is not defined",
     "output_type": "error",
     "traceback": [
      "\u001b[0;31m---------------------------------------------------------------------------\u001b[0m",
      "\u001b[0;31mNameError\u001b[0m                                 Traceback (most recent call last)",
      "Cell \u001b[0;32mIn[14], line 1\u001b[0m\n\u001b[0;32m----> 1\u001b[0m \u001b[43mgemma_result\u001b[49m\u001b[38;5;241m.\u001b[39mmetrics_table\u001b[38;5;241m.\u001b[39mhead\n",
      "\u001b[0;31mNameError\u001b[0m: name 'gemma_result' is not defined"
     ]
    }
   ],
   "source": [
    "gemma_result.metrics_table.head"
   ]
  },
  {
   "cell_type": "markdown",
   "id": "c82a669c-48e4-4928-8066-ceb1f57b1f42",
   "metadata": {},
   "source": [
    "### Sources\n",
    "\n",
    "+ [Vertex Evaluation Pipeline](https://cloud.google.com/vertex-ai/generative-ai/docs/models/computation-based-eval-pipeline#supported_models)\n"
   ]
  },
  {
   "cell_type": "markdown",
   "id": "96e2ebe0-9d50-4c59-9fe4-9969a9ee090d",
   "metadata": {},
   "source": [
    "## Step 6. Write goldens/groundtruth to BQ\n",
    "\n",
    "+ I want to store the best answers from the OOTB Gemini model as the \"groundtruth\"\n",
    "  or \"goldens\" set of query/responses for my models. I've decided to use BigQuery\n",
    "  to store this set. \n",
    "+ The documentation for BigFrames is hard to parse. It has a mix of conceptual content, reference content,\n",
    "  how-tos, etc.\n",
    "+ I think this is a bug -- when I create my dataset and table using a location-locked client, the resulting\n",
    "  datasets and tables should be located in that location. However, the BigFrames API keeps giving me this error:\n",
    "  \n",
    "```py\n",
    "ValueError: Current session is in us-west1 but dataset 'PROJECT_ID.myherodotus' is located in US\n",
    "```\n",
    "\n",
    "  - I investigated where this dataset is created and confirmed that it shows to be in the us-west1 region.\n",
    "  - Le sigh -- I was able to create a table easily using the `pandas-gbq` library."
   ]
  },
  {
   "cell_type": "code",
   "execution_count": 67,
   "id": "b65828b4-8fc3-46c0-81a2-591ff72919ca",
   "metadata": {
    "tags": []
   },
   "outputs": [
    {
     "name": "stderr",
     "output_type": "stream",
     "text": [
      "100%|██████████| 1/1 [00:00<00:00, 8065.97it/s]\n"
     ]
    }
   ],
   "source": [
    "golden_eval_dataset.head\n",
    "golden_eval_dataset.to_csv(\"goldens.csv\")\n",
    "\n",
    "golden_eval_dataset.to_gbq(destination_table=\"myherodotus.goldens20241104\",\n",
    "                           project_id=PROJECT_ID,\n",
    "                           if_exists='fail')"
   ]
  },
  {
   "cell_type": "code",
   "execution_count": 55,
   "id": "779550c0-7076-4fba-8d1d-60ff3430077e",
   "metadata": {
    "tags": []
   },
   "outputs": [
    {
     "data": {
      "text/plain": [
       "Dataset(DatasetReference('erschmid-test-291318', 'myherodotus'))"
      ]
     },
     "execution_count": 55,
     "metadata": {},
     "output_type": "execute_result"
    }
   ],
   "source": [
    "# Create the dataset and table\n",
    "bq_client = bigquery.Client(location=LOCATION)\n",
    "\n",
    "dataset = bigquery.Dataset(f\"{PROJECT_ID}.myherodotus\")\n",
    "dataset.location = LOCATION\n",
    "\n",
    "bq_client.create_dataset(dataset, exists_ok=True)"
   ]
  },
  {
   "cell_type": "code",
   "execution_count": 56,
   "id": "a4579b02-e819-439d-aa4b-fe5405999ea3",
   "metadata": {
    "tags": []
   },
   "outputs": [],
   "source": [
    "goldens_table_name = f\"{PROJECT_ID}.myherodotus.goldens20241104\"\n",
    "goldens_table = bigquery.Table(goldens_table_name)\n",
    "\n",
    "actual_goldens_table = bq_client.create_table(goldens_table, exists_ok=True)"
   ]
  },
  {
   "cell_type": "code",
   "execution_count": null,
   "id": "13fbecc9-e056-46d9-8d3f-a511e38fb42e",
   "metadata": {
    "tags": []
   },
   "outputs": [],
   "source": [
    "# DOES NOT WORK :/\n",
    "#bq_goldens_dataset = bpd.read_gbq(goldens_table_name)"
   ]
  },
  {
   "cell_type": "markdown",
   "id": "51872bd3-6190-4798-b098-1259c4f995a4",
   "metadata": {},
   "source": [
    "### Sources\n",
    "\n",
    "+ [BigQuery DataFrames](https://cloud.google.com/bigquery/docs/use-bigquery-dataframes)\n",
    "+ 👍👍 [Create dataset sample](https://cloud.google.com/bigquery/docs/samples/bigquery-create-dataset?hl=en#bigquery_create_dataset-python)"
   ]
  },
  {
   "cell_type": "markdown",
   "id": "8f3b4b23-1bdc-4679-9105-e6f3f20ab37e",
   "metadata": {},
   "source": [
    "## Step 7. Get golden dataset out of BQ"
   ]
  },
  {
   "cell_type": "code",
   "execution_count": 69,
   "id": "3a8c37d9-3361-403c-be5b-31dea4ed87de",
   "metadata": {
    "tags": []
   },
   "outputs": [],
   "source": [
    "# Get a pd.DataFrame out of BQ\n",
    "sql = f\"\"\"\n",
    "SELECT prompt, reference\n",
    "FROM {goldens_table_name}\n",
    "\"\"\"\n",
    "\n",
    "df = bq_client.query_and_wait(sql).to_dataframe()"
   ]
  },
  {
   "cell_type": "code",
   "execution_count": 70,
   "id": "077d2fa8-456b-49ab-8a83-a5340a108d9a",
   "metadata": {
    "tags": []
   },
   "outputs": [
    {
     "data": {
      "text/plain": [
       "<bound method NDFrame.head of                                                                 prompt  \\\n",
       "0                           I want to see the ancient ruins in Greece.   \n",
       "1                                       Help me plan my trip to Japan.   \n",
       "2  I'm going to the Yucatan peninsula in Mexico. What is there to see?   \n",
       "3                 What are the most interesting places to go in Egypt?   \n",
       "4            I want to visit historical sites in England and Scotland.   \n",
       "\n",
       "                                                                                                                                                                                                                                                                                                                                                                                                                                                                                                                                                                                                                                                                                                                                                                                                                                                                                                                                                                                                                                                                                                                                                                                                                                                                                                                                                                                                                                                                                                                                                                                                                                                                                                                                                                                                                                                                                                                                                                                                                                                                                                                                                                                                                                                                                                                                                                                                                                                                                                                                                                                                                                                                                                                                                                                                                                                                                                                                                                                                                                                                                                                                                                                                                                                                                                                                                                                                                                                                                                                                                                                                                                                                                                                                                                                                                                                                                                                                  reference  \n",
       "0                                                                                                                                                                                                                                                                                                                                                                                                                                                                                                                                                                                                                                                                                                                                                                                                                                                                                                                                                                                                                                                                                                                                                                                                                                                                                                                                                                                                                                                                                                                                                                                                                                                                                                                                                                                                                                                                                                                                                                                                                                                                                                                                                                                                                                                                                                                                                                                                                                                                                                                                                                                                                                                                                                                                                                                                                                                                                                                That's fantastic! Greece is home to some of the most incredible ancient ruins in the world.  To help me recommend the best places for you, tell me a little more about your interests:\\n\\n* **What kind of ruins are you most interested in?**  Do you prefer grand temples, sprawling city centers, or maybe something more off-the-beaten-path like an ancient theater or burial ground?\\n* **How long are you planning to travel in Greece?**  This will help determine how many sites you can realistically see.\\n* **Are you traveling independently or with a tour group?**  This will affect your travel options and what kind of experience you want.\\n* **What is your budget?**  Some sites have entrance fees and some require guided tours.\\n* **What time of year are you planning to go?**  Weather can play a big factor in your enjoyment of these outdoor sites.\\n\\nOnce I have this information, I can give you personalized recommendations for the best ancient ruins in Greece for you to explore! \\n  \n",
       "1                                                                                                                                                                                                                                                                                                                                                                                                                                                                                                                                                                                                                                                                                                                                                                                                                                                                                                                                                                                                                                                                                                                                                                                                                                                                                                                                                                                                                                                                                                                                                                                                                                                                                                                                                                                                                                                                                                                                                                                                                                                                                                                                                                                                                                                                                                                                                I can definitely help you plan your trip to Japan! To give you the best advice, I need a bit more information. Please tell me:\\n\\n**1. About You:**\\n\\n* **When are you traveling?** (Month/Year)\\n* **How long will you be in Japan?** (Number of days/weeks)\\n* **What is your budget?** (Approximate daily spending)\\n* **What type of traveler are you?** (Solo, Couple, Family, Group)\\n* **Are you interested in specific activities?** (City sightseeing, nature hikes, skiing, festivals, etc.)\\n* **Do you have any dietary restrictions?** (Vegetarian, vegan, gluten-free, etc.)\\n* **What kind of accommodation are you looking for?** (Budget hotel, traditional Ryokan, luxury hotel, etc.)\\n\\n**2. About Your Trip:**\\n\\n* **Which cities are you interested in visiting?** (Tokyo, Kyoto, Osaka, etc.)\\n* **Are you interested in visiting any specific regions?** (Hokkaido, Okinawa, etc.)\\n* **Do you have any \"must-see\" attractions?** (Mount Fuji, Fushimi Inari Shrine, etc.)\\n* **Do you have any specific interests?** (Anime, manga, history, culture, food, etc.)\\n\\nOnce I have this information, I can help you with:\\n\\n* **Creating an itinerary** that fits your interests and time frame.\\n* **Recommending the best transportation options** for getting around Japan.\\n* **Finding accommodation** based on your budget and preferences.\\n* **Suggesting delicious food and drinks** to try in each region.\\n* **Providing tips for navigating Japan** (culture, language, etiquette).\\n\\nI'm excited to help you plan your dream trip to Japan! 😄 🇯🇵\\n  \n",
       "2  The Yucatan Peninsula is a treasure trove of ancient history, natural beauty, and vibrant culture! Here's a taste of what you can experience:\\n\\n**Ancient Maya Sites:**\\n\\n* **Chichén Itzá:** A UNESCO World Heritage site, this impressive city boasts El Castillo (the pyramid), the Great Ball Court, and the Temple of the Warriors.\\n* **Uxmal:** Renowned for its intricate carvings and architectural beauty, Uxmal is a fascinating look into Maya life.\\n* **Tulum:** Perched on a cliff overlooking the Caribbean Sea, Tulum offers breathtaking views and a glimpse into the Mayan coastal culture.\\n* **Coba:** This less-visited site boasts a towering pyramid that you can climb for stunning panoramic views of the jungle.\\n* **Ek Balam:** Known for its impressive acropolis, this site offers a more intimate experience compared to the larger ones.\\n\\n**Natural Wonders:**\\n\\n* **Cenotes:** These natural sinkholes filled with crystal-clear water offer incredible swimming and diving experiences. Some popular ones include Cenote Dos Ojos, Gran Cenote, and Cenote Ik Kil.\\n* **Sian Ka'an Biosphere Reserve:** This UNESCO World Heritage site features mangrove forests, lagoons, and diverse wildlife. You can explore it by boat, kayak, or even on a bike.\\n* **Isla Mujeres:** This island off the coast of Cancun offers stunning beaches, clear waters, and opportunities for snorkeling and diving.\\n* **Holbox:** This island is known for its pristine beaches, whale shark encounters (seasonal), and bioluminescent plankton.\\n* **Riviera Maya:** This stretch of coastline boasts beautiful beaches, luxurious resorts, and opportunities for water sports.\\n\\n**Cultural Experiences:**\\n\\n* **Merida:** The capital of Yucatan, Merida offers a rich blend of history, culture, and nightlife. Visit the Paseo de Montejo, the Catedral de San Ildefonso, and the Maya archaeological museum.\\n* **Valladolid:** A charming colonial town with a vibrant atmosphere, Valladolid is a great base for exploring cenotes and other attractions.\\n* **Mayan Villages:** Immerse yourself in local life by visiting traditional Mayan villages and experiencing their culture and crafts.\\n* **Festivals:** Yucatan celebrates many traditional festivals throughout the year, including the Day of the Dead and the Hanal Pixán (Day of the Souls).\\n\\n**Things to do:**\\n\\n* **Snorkeling and diving:** Explore the underwater world of the Caribbean Sea and discover colorful reefs, marine life, and shipwrecks.\\n* **Ziplining:** Soar through the jungle canopy and enjoy breathtaking views of the Yucatan Peninsula.\\n* **Kayaking and paddleboarding:** Explore tranquil lagoons, mangrove forests, and hidden coves.\\n* **Birdwatching:** The Yucatan is home to a diverse array of bird species, including flamingos, toucans, and parrots.\\n* **Hiking and biking:** Explore the Yucatan's natural beauty on foot or by bike.\\n\\n**Best time to visit:**\\n\\nThe Yucatan Peninsula enjoys a tropical climate with warm temperatures year-round. The best time to visit is during the dry season (November to April) when humidity is lower and rain is less frequent. However, remember that this is also the peak tourist season, so expect higher prices and crowds.\\n\\n**Tips for planning your trip:**\\n\\n* Book flights and accommodations in advance, especially during peak season.\\n* Consider purchasing a Yucatan Pass for discounted entry to multiple archaeological sites.\\n* Learn a few basic Spanish phrases.\\n* Pack light, breathable clothing, and sunscreen.\\n* Be prepared for humid weather and mosquitos.\\n* Stay hydrated and eat plenty of fresh fruits and vegetables.\\n\\nRemember, this is just a glimpse of what the Yucatan Peninsula has to offer. You can customize your itinerary based on your interests, time, and budget. Enjoy your trip! \\n  \n",
       "3                                                                                                                                                                                                                                                                                                                                                                                                                                                                                                                                                                                                                                                                                                                                                                                                                                                                                                                                                                                   Egypt is a treasure trove of history, culture, and natural beauty. Choosing the \"most interesting\" depends on your personal interests, but here are some options categorized for different travelers:\\n\\n**For History Buffs:**\\n\\n* **The Pyramids of Giza:** A must-see, these iconic structures are a testament to the ancient Egyptians' engineering prowess.\\n* **The Sphinx:** This enigmatic statue, guarding the pyramids, is shrouded in mystery and intrigue.\\n* **The Valley of the Kings:** Explore the tombs of pharaohs like Tutankhamun and Ramses II.\\n* **The Valley of the Queens:** Discover the final resting places of the pharaohs' wives and children.\\n* **Karnak Temple Complex:** This sprawling complex, built over 2000 years, is a breathtaking example of ancient Egyptian architecture and religious practice.\\n* **Luxor Temple:** Located on the east bank of the Nile, this temple is equally impressive and offers a glimpse into ancient Egyptian life.\\n* **Abu Simbel:** These two temples were moved from their original location to save them from flooding. The impressive scale and intricate carvings are awe-inspiring.\\n* **Alexandria:** The ancient city of Alexandria boasts the Bibliotheca Alexandrina, a modern library built in the spirit of the famed ancient library.\\n\\n**For Culture Enthusiasts:**\\n\\n* **Cairo:** Explore the bustling city, home to the Egyptian Museum, the Khan el-Khalili Bazaar, and the Coptic Cairo district.\\n* **Aswan:** Experience Nubian culture and enjoy a felucca ride on the Nile.\\n* **Siwa Oasis:** This remote oasis offers a glimpse into a different way of life, with traditional architecture and a unique culture.\\n* **The Red Sea Coast:** Discover vibrant coral reefs and diverse marine life while enjoying relaxation and adventure.\\n\\n**For Adventure Seekers:**\\n\\n* **Hiking in the Sinai Peninsula:** Explore the dramatic landscapes and climb Mount Catherine, the highest peak in Egypt.\\n* **Scuba diving in the Red Sea:** Dive into the crystal-clear waters and witness the abundance of marine life.\\n* **Sandboarding in the Western Desert:** Ride the dunes and enjoy the thrill of desert adventure.\\n* **Hot air balloon ride over Luxor:** Get a breathtaking aerial view of the ancient temples and the Nile River.\\n\\n**For Relaxers:**\\n\\n* **The Red Sea Coast:** Relax on pristine beaches, enjoy luxurious resorts, and indulge in water sports.\\n* **Luxor:** Enjoy a leisurely cruise on the Nile, explore the ancient temples at a relaxed pace, and soak up the tranquil atmosphere.\\n* **Siwa Oasis:** Escape the hustle and bustle and immerse yourself in the peaceful oasis environment.\\n\\nNo matter your interests, Egypt has something to offer everyone. Be sure to plan your trip in advance, consider the best time to visit based on your interests, and be prepared for an unforgettable adventure!\\n  \n",
       "4                                                                                                                                                                                                                                                                                                                                                                                                                                                                                                                                                                                                                                                                                                                                                                                                                                                                                                                                                                                                                                                                                                                                                                                                                                                                                                                                                                                                                                                                                                                                                                                                                                                                                                                                              That's a fantastic idea! England and Scotland are bursting with historical sites, each offering unique experiences. To tailor a perfect itinerary, I need a bit more information about your preferences. \\n\\n**Tell me:**\\n\\n* **How long is your trip?** This will help determine how many sites you can realistically visit.\\n* **What kind of history are you interested in?**  Do you prefer ancient ruins, castles, royal palaces, religious sites, battlefields, or something else?\\n* **What's your budget?** This will help recommend suitable accommodation and activities.\\n* **What kind of travel experience do you prefer?**  Are you looking for a relaxed sightseeing tour or something more adventurous?\\n* **Do you have any specific destinations in mind?** \\n\\nOnce I have this information, I can provide you with a personalized list of historical sites and travel tips.  \\n\\n**Here are some general suggestions to get you started:**\\n\\n**England:**\\n\\n* **Stonehenge:** One of the most iconic prehistoric monuments in the world.\\n* **Roman Baths:**  Explore the impressive Roman bath complex in Bath.\\n* **York:** Visit the historic city walls and York Minster, a stunning Gothic cathedral.\\n* **Tower of London:** Discover the historic castle, home to the Crown Jewels.\\n* **Westminster Abbey:**  Admire the gothic architecture and explore the tombs of British monarchs.\\n* **Stratford-upon-Avon:**  The birthplace of William Shakespeare, a must-visit for literary enthusiasts.\\n\\n**Scotland:**\\n\\n* **Edinburgh Castle:**  A majestic fortress overlooking the city.\\n* **Loch Ness:** Explore the legendary loch, known for the mythical monster Nessie.\\n* **Skara Brae:** A Neolithic village preserved under mounds of sand.\\n* **Stirling Castle:**  Visit the historic castle overlooking Stirling, a strategic location in Scottish history.\\n* **Rosslyn Chapel:**  Admire the intricate carvings and mysterious architecture of this 15th-century chapel.\\n* **Culloden Battlefield:**  Explore the site of the final battle of the Jacobite rebellion.\\n\\nI'm excited to help you plan your trip to England and Scotland! 😊 \\n  >"
      ]
     },
     "execution_count": 70,
     "metadata": {},
     "output_type": "execute_result"
    }
   ],
   "source": [
    "df.head"
   ]
  },
  {
   "cell_type": "code",
   "execution_count": null,
   "id": "102c17b1-622d-4905-97ee-a1743ff64ffa",
   "metadata": {},
   "outputs": [],
   "source": []
  }
 ],
 "metadata": {
  "kernelspec": {
   "display_name": "PyTorch 2.0 (Local)",
   "language": "python",
   "name": "pytorch-2-0"
  },
  "language_info": {
   "codemirror_mode": {
    "name": "ipython",
    "version": 3
   },
   "file_extension": ".py",
   "mimetype": "text/x-python",
   "name": "python",
   "nbconvert_exporter": "python",
   "pygments_lexer": "ipython3",
   "version": "3.10.15"
  }
 },
 "nbformat": 4,
 "nbformat_minor": 5
}
